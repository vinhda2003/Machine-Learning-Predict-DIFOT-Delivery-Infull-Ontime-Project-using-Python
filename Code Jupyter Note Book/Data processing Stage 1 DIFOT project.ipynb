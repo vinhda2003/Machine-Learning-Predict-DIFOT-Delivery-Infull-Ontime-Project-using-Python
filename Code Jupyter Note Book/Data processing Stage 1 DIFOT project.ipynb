{
 "cells": [
  {
   "cell_type": "markdown",
   "id": "bbe3406f",
   "metadata": {
    "papermill": {
     "duration": 0.008584,
     "end_time": "2024-09-05T18:57:03.513338",
     "exception": false,
     "start_time": "2024-09-05T18:57:03.504754",
     "status": "completed"
    },
    "tags": []
   },
   "source": [
    "**Set up Env & Import raw data**"
   ]
  },
  {
   "cell_type": "code",
   "execution_count": 1,
   "id": "2f9b9fb3",
   "metadata": {
    "execution": {
     "iopub.execute_input": "2024-09-05T18:57:03.531177Z",
     "iopub.status.busy": "2024-09-05T18:57:03.530681Z",
     "iopub.status.idle": "2024-09-05T18:57:18.858056Z",
     "shell.execute_reply": "2024-09-05T18:57:18.856540Z"
    },
    "papermill": {
     "duration": 15.339718,
     "end_time": "2024-09-05T18:57:18.861271",
     "exception": false,
     "start_time": "2024-09-05T18:57:03.521553",
     "status": "completed"
    },
    "tags": []
   },
   "outputs": [
    {
     "name": "stdout",
     "output_type": "stream",
     "text": [
      "Collecting gdown\r\n",
      "  Downloading gdown-5.2.0-py3-none-any.whl.metadata (5.8 kB)\r\n",
      "Requirement already satisfied: beautifulsoup4 in /opt/conda/lib/python3.10/site-packages (from gdown) (4.12.3)\r\n",
      "Requirement already satisfied: filelock in /opt/conda/lib/python3.10/site-packages (from gdown) (3.15.1)\r\n",
      "Requirement already satisfied: requests[socks] in /opt/conda/lib/python3.10/site-packages (from gdown) (2.32.3)\r\n",
      "Requirement already satisfied: tqdm in /opt/conda/lib/python3.10/site-packages (from gdown) (4.66.4)\r\n",
      "Requirement already satisfied: soupsieve>1.2 in /opt/conda/lib/python3.10/site-packages (from beautifulsoup4->gdown) (2.5)\r\n",
      "Requirement already satisfied: charset-normalizer<4,>=2 in /opt/conda/lib/python3.10/site-packages (from requests[socks]->gdown) (3.3.2)\r\n",
      "Requirement already satisfied: idna<4,>=2.5 in /opt/conda/lib/python3.10/site-packages (from requests[socks]->gdown) (3.7)\r\n",
      "Requirement already satisfied: urllib3<3,>=1.21.1 in /opt/conda/lib/python3.10/site-packages (from requests[socks]->gdown) (1.26.18)\r\n",
      "Requirement already satisfied: certifi>=2017.4.17 in /opt/conda/lib/python3.10/site-packages (from requests[socks]->gdown) (2024.7.4)\r\n",
      "Requirement already satisfied: PySocks!=1.5.7,>=1.5.6 in /opt/conda/lib/python3.10/site-packages (from requests[socks]->gdown) (1.7.1)\r\n",
      "Downloading gdown-5.2.0-py3-none-any.whl (18 kB)\r\n",
      "Installing collected packages: gdown\r\n",
      "Successfully installed gdown-5.2.0\r\n"
     ]
    }
   ],
   "source": [
    "import numpy as np \n",
    "import pandas as pd \n",
    "!pip install gdown"
   ]
  },
  {
   "cell_type": "code",
   "execution_count": 2,
   "id": "059d69e3",
   "metadata": {
    "execution": {
     "iopub.execute_input": "2024-09-05T18:57:18.880731Z",
     "iopub.status.busy": "2024-09-05T18:57:18.879922Z",
     "iopub.status.idle": "2024-09-05T18:57:18.887032Z",
     "shell.execute_reply": "2024-09-05T18:57:18.885642Z"
    },
    "papermill": {
     "duration": 0.019776,
     "end_time": "2024-09-05T18:57:18.889561",
     "exception": false,
     "start_time": "2024-09-05T18:57:18.869785",
     "status": "completed"
    },
    "tags": []
   },
   "outputs": [],
   "source": [
    "# List folder for demo\n",
    "import os\n",
    "for dirname, _, filenames in os.walk('/kaggle/input'):\n",
    "    for filename in filenames:\n",
    "        print(os.path.join(dirname, filename))"
   ]
  },
  {
   "cell_type": "code",
   "execution_count": 3,
   "id": "1ebfc526",
   "metadata": {
    "execution": {
     "iopub.execute_input": "2024-09-05T18:57:18.907939Z",
     "iopub.status.busy": "2024-09-05T18:57:18.907558Z",
     "iopub.status.idle": "2024-09-05T18:57:33.799217Z",
     "shell.execute_reply": "2024-09-05T18:57:33.797309Z"
    },
    "papermill": {
     "duration": 14.904161,
     "end_time": "2024-09-05T18:57:33.802220",
     "exception": false,
     "start_time": "2024-09-05T18:57:18.898059",
     "status": "completed"
    },
    "tags": []
   },
   "outputs": [
    {
     "name": "stdout",
     "output_type": "stream",
     "text": [
      "[]\n"
     ]
    }
   ],
   "source": [
    "# List GPUs\n",
    "from tensorflow.python.client import device_lib\n",
    "\n",
    "def get_available_gpus():\n",
    "    local_device_protos = device_lib.list_local_devices()\n",
    "    return [x.name for x in local_device_protos if x.device_type == 'GPU']\n",
    "\n",
    "print(get_available_gpus())"
   ]
  },
  {
   "cell_type": "code",
   "execution_count": 4,
   "id": "e6efb1be",
   "metadata": {
    "execution": {
     "iopub.execute_input": "2024-09-05T18:57:33.821913Z",
     "iopub.status.busy": "2024-09-05T18:57:33.820869Z",
     "iopub.status.idle": "2024-09-05T19:00:02.977551Z",
     "shell.execute_reply": "2024-09-05T19:00:02.975217Z"
    },
    "papermill": {
     "duration": 149.170181,
     "end_time": "2024-09-05T19:00:02.980964",
     "exception": false,
     "start_time": "2024-09-05T18:57:33.810783",
     "status": "completed"
    },
    "tags": []
   },
   "outputs": [
    {
     "name": "stdout",
     "output_type": "stream",
     "text": [
      "/opt/conda/lib/python3.10/site-packages/gdown/__main__.py:140: FutureWarning: Option `--id` was deprecated in version 4.3.1 and will be removed in 5.0. You don't need to pass it anymore to use a file ID.\r\n",
      "  warnings.warn(\r\n",
      "Downloading...\r\n",
      "From (original): https://drive.google.com/uc?id=1nHU1ZQ82sH2OvbBPZkORtz3OMPZ8iei6\r\n",
      "From (redirected): https://drive.google.com/uc?id=1nHU1ZQ82sH2OvbBPZkORtz3OMPZ8iei6&confirm=t&uuid=95585c5a-8764-49aa-91eb-3f839ce29864\r\n",
      "To: /kaggle/working/DIFOT Result Full from May23 to Aug24 - Copy.zip\r\n",
      "100%|██████████████████████████████████████| 1.91G/1.91G [00:19<00:00, 98.3MB/s]\r\n",
      "/opt/conda/lib/python3.10/site-packages/gdown/__main__.py:140: FutureWarning: Option `--id` was deprecated in version 4.3.1 and will be removed in 5.0. You don't need to pass it anymore to use a file ID.\r\n",
      "  warnings.warn(\r\n",
      "Downloading...\r\n",
      "From: https://drive.google.com/uc?id=1shhfoE5RBhbvfAA8FmyKzPi9NqmQWqUT\r\n",
      "To: /kaggle/working/GPS 2nd customer.csv\r\n",
      "100%|███████████████████████████████████████| 47.3M/47.3M [00:00<00:00, 133MB/s]\r\n",
      "/opt/conda/lib/python3.10/site-packages/gdown/__main__.py:140: FutureWarning: Option `--id` was deprecated in version 4.3.1 and will be removed in 5.0. You don't need to pass it anymore to use a file ID.\r\n",
      "  warnings.warn(\r\n",
      "Downloading...\r\n",
      "From: https://drive.google.com/uc?id=1_Z7DMmdBec_KQUY7tvw8Ie5igoucwWAM\r\n",
      "To: /kaggle/working/GPS Distributor.csv\r\n",
      "100%|██████████████████████████████████████| 5.47M/5.47M [00:00<00:00, 44.2MB/s]\r\n",
      "/opt/conda/lib/python3.10/site-packages/gdown/__main__.py:140: FutureWarning: Option `--id` was deprecated in version 4.3.1 and will be removed in 5.0. You don't need to pass it anymore to use a file ID.\r\n",
      "  warnings.warn(\r\n",
      "Downloading...\r\n",
      "From: https://drive.google.com/uc?id=1mNvYsKCvZ1swPmGpqQYuVG8vctXE6C-1\r\n",
      "To: /kaggle/working/List Day off .csv\r\n",
      "100%|██████████████████████████████████████| 6.48k/6.48k [00:00<00:00, 14.9MB/s]\r\n",
      "Archive:  /kaggle/working/DIFOT Result Full from May23 to Aug24 - Copy.zip\r\n",
      "  inflating: /kaggle/working/DIFOT Result Full from May23 to Aug24 - Copy.csv  \r\n"
     ]
    }
   ],
   "source": [
    "\n",
    "import gdown\n",
    "\n",
    "!gdown --id 1nHU1ZQ82sH2OvbBPZkORtz3OMPZ8iei6\n",
    "!gdown --id 1shhfoE5RBhbvfAA8FmyKzPi9NqmQWqUT\n",
    "!gdown --id 1_Z7DMmdBec_KQUY7tvw8Ie5igoucwWAM\n",
    "!gdown --id 1mNvYsKCvZ1swPmGpqQYuVG8vctXE6C-1\n",
    "!unzip \"/kaggle/working/DIFOT Result Full from May23 to Aug24 - Copy.zip\" -d /kaggle/working/"
   ]
  },
  {
   "cell_type": "code",
   "execution_count": 5,
   "id": "4baff19d",
   "metadata": {
    "execution": {
     "iopub.execute_input": "2024-09-05T19:00:03.021352Z",
     "iopub.status.busy": "2024-09-05T19:00:03.019399Z",
     "iopub.status.idle": "2024-09-05T19:00:55.583520Z",
     "shell.execute_reply": "2024-09-05T19:00:55.582049Z"
    },
    "papermill": {
     "duration": 52.588675,
     "end_time": "2024-09-05T19:00:55.586259",
     "exception": false,
     "start_time": "2024-09-05T19:00:02.997584",
     "status": "completed"
    },
    "tags": []
   },
   "outputs": [
    {
     "name": "stdout",
     "output_type": "stream",
     "text": [
      "Collecting pyspark==3.0.1\r\n",
      "  Downloading pyspark-3.0.1.tar.gz (204.2 MB)\r\n",
      "\u001b[2K     \u001b[90m━━━━━━━━━━━━━━━━━━━━━━━━━━━━━━━━━━━━━━━\u001b[0m \u001b[32m204.2/204.2 MB\u001b[0m \u001b[31m2.3 MB/s\u001b[0m eta \u001b[36m0:00:00\u001b[0m\r\n",
      "\u001b[?25h  Preparing metadata (setup.py) ... \u001b[?25l-\b \b\\\b \bdone\r\n",
      "\u001b[?25hCollecting py4j==0.10.9\r\n",
      "  Downloading py4j-0.10.9-py2.py3-none-any.whl.metadata (1.3 kB)\r\n",
      "Downloading py4j-0.10.9-py2.py3-none-any.whl (198 kB)\r\n",
      "\u001b[2K   \u001b[90m━━━━━━━━━━━━━━━━━━━━━━━━━━━━━━━━━━━━━━━━\u001b[0m \u001b[32m198.6/198.6 kB\u001b[0m \u001b[31m9.7 MB/s\u001b[0m eta \u001b[36m0:00:00\u001b[0m\r\n",
      "\u001b[?25hBuilding wheels for collected packages: pyspark\r\n",
      "  Building wheel for pyspark (setup.py) ... \u001b[?25l-\b \b\\\b \b|\b \bdone\r\n",
      "\u001b[?25h  Created wheel for pyspark: filename=pyspark-3.0.1-py2.py3-none-any.whl size=204612223 sha256=04c278bd14735695c35b3213f4b66204e8fb85af1f9b85fe6f997b56f9c3c626\r\n",
      "  Stored in directory: /root/.cache/pip/wheels/19/b0/c8/6cb894117070e130fc44352c2a13f15b6c27e440d04a84fb48\r\n",
      "Successfully built pyspark\r\n",
      "Installing collected packages: py4j, pyspark\r\n",
      "  Attempting uninstall: py4j\r\n",
      "    Found existing installation: py4j 0.10.9.7\r\n",
      "    Uninstalling py4j-0.10.9.7:\r\n",
      "      Successfully uninstalled py4j-0.10.9.7\r\n",
      "Successfully installed py4j-0.10.9 pyspark-3.0.1\r\n"
     ]
    },
    {
     "name": "stderr",
     "output_type": "stream",
     "text": [
      "WARNING: An illegal reflective access operation has occurred\n",
      "WARNING: Illegal reflective access by org.apache.spark.unsafe.Platform (file:/opt/conda/lib/python3.10/site-packages/pyspark/jars/spark-unsafe_2.12-3.0.1.jar) to constructor java.nio.DirectByteBuffer(long,int)\n",
      "WARNING: Please consider reporting this to the maintainers of org.apache.spark.unsafe.Platform\n",
      "WARNING: Use --illegal-access=warn to enable warnings of further illegal reflective access operations\n",
      "WARNING: All illegal access operations will be denied in a future release\n",
      "24/09/05 19:00:51 WARN NativeCodeLoader: Unable to load native-hadoop library for your platform... using builtin-java classes where applicable\n",
      "Using Spark's default log4j profile: org/apache/spark/log4j-defaults.properties\n",
      "Setting default log level to \"WARN\".\n",
      "To adjust logging level use sc.setLogLevel(newLevel). For SparkR, use setLogLevel(newLevel).\n"
     ]
    }
   ],
   "source": [
    "# Set up spark context\n",
    "\n",
    "\n",
    "!pip install pyspark==3.0.1 py4j==0.10.9\n",
    "import pandas as pd\n",
    "\n",
    "from pyspark.sql import SparkSession\n",
    "\n",
    "spark = SparkSession.builder \\\n",
    "    .appName(\"MyApp\") \\\n",
    "    .config(\"spark.executor.memory\", \"8g\") \\\n",
    "    .config(\"spark.driver.memory\", \"8g\") \\\n",
    "    .config(\"spark.sql.shuffle.partitions\", \"1000\")\\\n",
    "    .getOrCreate()\n",
    "\n",
    "import logging\n",
    "\n",
    "\n",
    "# Set logging level to ERROR to suppress WARN messages\n",
    "logger = spark._jvm.org.apache.log4j\n",
    "logger.LogManager.getRootLogger().setLevel(logger.Level.ERROR)\n"
   ]
  },
  {
   "cell_type": "code",
   "execution_count": 6,
   "id": "611c4043",
   "metadata": {
    "execution": {
     "iopub.execute_input": "2024-09-05T19:00:55.644560Z",
     "iopub.status.busy": "2024-09-05T19:00:55.643210Z",
     "iopub.status.idle": "2024-09-05T19:01:02.002421Z",
     "shell.execute_reply": "2024-09-05T19:01:02.001135Z"
    },
    "papermill": {
     "duration": 6.392842,
     "end_time": "2024-09-05T19:01:02.006227",
     "exception": false,
     "start_time": "2024-09-05T19:00:55.613385",
     "status": "completed"
    },
    "tags": []
   },
   "outputs": [
    {
     "name": "stdout",
     "output_type": "stream",
     "text": [
      "+----------+---------------+-----------------+----------------+-------------+------------+-----------+------------+---------+------+---------+---------+--------------------+----------+-----------+-----------+----------+-------+--------+\n",
      "|order_date|settlement_date|           region|distributor_code|customer_code|segmentation|channelname|    order_no|item_code| brand|pack_type|pack_size|              key_so|totalec_sr|totalNSR_sr|totalNSR_so|totalec_so|diff_ec|diff_NSR|\n",
      "+----------+---------------+-----------------+----------------+-------------+------------+-----------+------------+---------+------+---------+---------+--------------------+----------+-----------+-----------+----------+-------+--------+\n",
      "|2023-06-08|     2023-06-08|North East Region|      0070000004|   0070435473|    DRINKING|     Bronze|000031112878|     2710|*******|      PET|    350ML|08-06-2023-000031...|     0.125|     8250.0|     8250.0|     0.125|    0.0|     0.0|\n",
      "+----------+---------------+-----------------+----------------+-------------+------------+-----------+------------+---------+------+---------+---------+--------------------+----------+-----------+-----------+----------+-------+--------+\n",
      "only showing top 1 row\n",
      "\n",
      "root\n",
      " |-- order_date: date (nullable = true)\n",
      " |-- settlement_date: date (nullable = true)\n",
      " |-- region: string (nullable = true)\n",
      " |-- distributor_code: string (nullable = true)\n",
      " |-- customer_code: string (nullable = true)\n",
      " |-- segmentation: string (nullable = true)\n",
      " |-- channelname: string (nullable = true)\n",
      " |-- order_no: string (nullable = true)\n",
      " |-- item_code: string (nullable = true)\n",
      " |-- brand: string (nullable = true)\n",
      " |-- pack_type: string (nullable = true)\n",
      " |-- pack_size: string (nullable = true)\n",
      " |-- key_so: string (nullable = true)\n",
      " |-- totalec_sr: double (nullable = true)\n",
      " |-- totalNSR_sr: double (nullable = true)\n",
      " |-- totalNSR_so: double (nullable = true)\n",
      " |-- totalec_so: double (nullable = true)\n",
      " |-- diff_ec: double (nullable = true)\n",
      " |-- diff_NSR: double (nullable = true)\n",
      "\n"
     ]
    }
   ],
   "source": [
    "#Import table factdata show transaction of sales register & sales order  \n",
    "\n",
    "\n",
    "from pyspark.sql import SparkSession\n",
    "from pyspark.sql.types import DoubleType\n",
    "from pyspark.sql.functions import col,to_date\n",
    "\n",
    "factdata= spark.read.csv('/kaggle/working/DIFOT Result Full from May23 to Aug24 - Copy.csv')\n",
    "header = factdata.first()\n",
    "# Remove the first row from the DataFrame\n",
    "factdata = factdata.filter(col(\"`_c0`\") != header._c0) # Assuming _c0 is not null in the header\n",
    "# Create a list of column names from the header row\n",
    "columns = [header[i] for i in range(len(header))]\n",
    "# Rename columns in the DataFrame\n",
    "factdata = factdata.select([col(f\"`_c{i}`\").alias(name) for i, name in enumerate(columns)])\n",
    "\n",
    "factdata = factdata.withColumn('order_date', to_date(col('order_date'), 'dd-MM-yyyy')) # Định dạng mẫu ví dụ\n",
    "factdata = factdata.withColumn('settlement_date', to_date(col('settlement_date'), 'dd-MM-yyyy')) # Định dạng mẫu ví dụ\n",
    "factdata= factdata.withColumn('totalec_sr', col('totalec_sr').cast(DoubleType()))\n",
    "factdata= factdata.withColumn('totalNSR_sr', col('totalNSR_sr').cast(DoubleType()))\n",
    "factdata= factdata.withColumn('totalNSR_so', col('totalNSR_so').cast(DoubleType()))\n",
    "factdata= factdata.withColumn('totalec_so', col('totalec_so').cast(DoubleType()))\n",
    "factdata= factdata.withColumn('diff_ec', col('diff_ec').cast(DoubleType()))\n",
    "factdata= factdata.withColumn('diff_NSR', col('diff_NSR').cast(DoubleType()))\n",
    "factdata.show(1)\n",
    "factdata.printSchema()\n",
    "\n",
    "\n"
   ]
  },
  {
   "cell_type": "code",
   "execution_count": 7,
   "id": "22259aab",
   "metadata": {
    "execution": {
     "iopub.execute_input": "2024-09-05T19:01:02.095371Z",
     "iopub.status.busy": "2024-09-05T19:01:02.093959Z",
     "iopub.status.idle": "2024-09-05T19:01:04.662740Z",
     "shell.execute_reply": "2024-09-05T19:01:04.661215Z"
    },
    "papermill": {
     "duration": 2.616785,
     "end_time": "2024-09-05T19:01:04.666353",
     "exception": false,
     "start_time": "2024-09-05T19:01:02.049568",
     "status": "completed"
    },
    "tags": []
   },
   "outputs": [
    {
     "name": "stdout",
     "output_type": "stream",
     "text": [
      "+----------+---------+----------+\n",
      "|customerid| latitude| longitude|\n",
      "+----------+---------+----------+\n",
      "|0070000973|15.879528|108.320436|\n",
      "|0070002090|15.887124|108.333909|\n",
      "|0070005507|      3.0|       0.0|\n",
      "|0070000112|      0.0|       0.0|\n",
      "|0070007208|16.081088|108.211983|\n",
      "+----------+---------+----------+\n",
      "only showing top 5 rows\n",
      "\n",
      "root\n",
      " |-- customerid: string (nullable = true)\n",
      " |-- latitude: double (nullable = true)\n",
      " |-- longitude: double (nullable = true)\n",
      "\n",
      "+----------+---------+----------+\n",
      "|customerid| latitude| longitude|\n",
      "+----------+---------+----------+\n",
      "|0070000112|      0.0|       0.0|\n",
      "|0070029284|      0.0|       0.0|\n",
      "|0070029536|      0.0|       0.0|\n",
      "|0070034943|21.020614|105.901715|\n",
      "|0070033287|      0.0|       0.0|\n",
      "+----------+---------+----------+\n",
      "only showing top 5 rows\n",
      "\n",
      "root\n",
      " |-- customerid: string (nullable = true)\n",
      " |-- latitude: double (nullable = true)\n",
      " |-- longitude: double (nullable = true)\n",
      "\n",
      "+----------+------+-------+----------+----------+-----------+\n",
      "|    d_date|  year|day_off| eoweek KO|eomonth KO|Typeday off|\n",
      "+----------+------+-------+----------+----------+-----------+\n",
      "|2024-12-29|2024.0|    Yes|2024-12-31|2024-12-31|End of week|\n",
      "|2024-12-22|2024.0|    Yes|2024-12-31|2024-12-31|End of week|\n",
      "+----------+------+-------+----------+----------+-----------+\n",
      "only showing top 2 rows\n",
      "\n",
      "root\n",
      " |-- d_date: date (nullable = true)\n",
      " |-- year: double (nullable = true)\n",
      " |-- day_off: string (nullable = true)\n",
      " |-- eoweek KO: date (nullable = true)\n",
      " |-- eomonth KO: date (nullable = true)\n",
      " |-- Typeday off: string (nullable = true)\n",
      "\n"
     ]
    }
   ],
   "source": [
    "#Import GPS tables show location of distributor & customer  \n",
    "\n",
    "from pyspark.sql import SparkSession\n",
    "from pyspark.sql.types import DoubleType\n",
    "from pyspark.sql.functions import col\n",
    "\n",
    "#\n",
    "\n",
    "GPScus=spark.read.csv('/kaggle/working/GPS 2nd customer.csv')\n",
    "header1 = GPScus.first()\n",
    "GPScus = GPScus.filter(col(\"`_c0`\") != header1._c0)\n",
    "columns = [header1[i] for i in range(len(header1))]\n",
    "GPScus = GPScus.select([col(f\"`_c{i}`\").alias(name) for i, name in enumerate(columns)])\n",
    "#GPScus.show()\n",
    "GPScus = GPScus.withColumn('latitude', col('latitude').cast(DoubleType()))\n",
    "GPScus = GPScus.withColumn('longitude', col('longitude').cast(DoubleType()))\n",
    "GPScus.show(5)\n",
    "GPScus.printSchema()\n",
    "\n",
    "#\n",
    " \n",
    "GPSdist=spark.read.csv('/kaggle/working/GPS Distributor.csv')\n",
    "header2 = GPSdist.first()\n",
    "GPSdist = GPSdist.filter(col(\"`_c0`\") != header2._c0)\n",
    "columns = [header2[i] for i in range(len(header2))]\n",
    "GPSdist = GPSdist.select([col(f\"`_c{i}`\").alias(name) for i, name in enumerate(columns)])\n",
    "GPSdist = GPSdist.withColumn('latitude', col('latitude').cast(DoubleType()))\n",
    "GPSdist = GPSdist.withColumn('longitude', col('longitude').cast(DoubleType()))\n",
    "GPSdist.show(5)\n",
    "GPSdist.printSchema()\n",
    "\n",
    "#\n",
    "\n",
    "spark.conf.set(\"spark.sql.legacy.timeParserPolicy\", \"LEGACY\")\n",
    "\n",
    "from pyspark.sql.functions import to_date, col\n",
    "\n",
    "Listdayoff=spark.read.csv('/kaggle/working/List Day off .csv')\n",
    "header3 = Listdayoff.first()\n",
    "Listdayoff = Listdayoff.filter(col(\"`_c0`\") != header3._c0)\n",
    "columns = [header3[i] for i in range(len(header3))]\n",
    "Listdayoff = Listdayoff.select([col(f\"`_c{i}`\").alias(name) for i, name in enumerate(columns)])\n",
    "\n",
    "Listdayoff = Listdayoff.withColumn(\"d_date\", to_date(col(\"d_date\"), 'dd-MMM-yy'))\n",
    "Listdayoff = Listdayoff.withColumn(\"eoweek KO\", to_date(col(\"eoweek KO\"), 'dd-MMM-yy'))\n",
    "Listdayoff = Listdayoff.withColumn(\"eomonth KO\", to_date(col(\"eomonth KO\"), 'dd-MMM-yy'))\n",
    "Listdayoff= Listdayoff.withColumn('year', col('year').cast(DoubleType()))\n",
    "\n",
    "Listdayoff.show(2)\n",
    "\n",
    "Listdayoff.printSchema()"
   ]
  },
  {
   "cell_type": "markdown",
   "id": "e5772fb9",
   "metadata": {
    "papermill": {
     "duration": 0.026876,
     "end_time": "2024-09-05T19:01:04.797913",
     "exception": false,
     "start_time": "2024-09-05T19:01:04.771037",
     "status": "completed"
    },
    "tags": []
   },
   "source": [
    "**Calculate Variable**"
   ]
  },
  {
   "cell_type": "markdown",
   "id": "006f2c2e",
   "metadata": {
    "papermill": {
     "duration": 0.02621,
     "end_time": "2024-09-05T19:01:04.850682",
     "exception": false,
     "start_time": "2024-09-05T19:01:04.824472",
     "status": "completed"
    },
    "tags": []
   },
   "source": [
    "**Var Distance Km (Delivery Distance from Distributor to Customer)**"
   ]
  },
  {
   "cell_type": "code",
   "execution_count": 9,
   "id": "2bba763d",
   "metadata": {
    "execution": {
     "iopub.execute_input": "2024-09-05T19:01:04.907625Z",
     "iopub.status.busy": "2024-09-05T19:01:04.907170Z",
     "iopub.status.idle": "2024-09-05T19:07:29.570656Z",
     "shell.execute_reply": "2024-09-05T19:07:29.569369Z"
    },
    "papermill": {
     "duration": 384.695345,
     "end_time": "2024-09-05T19:07:29.573913",
     "exception": false,
     "start_time": "2024-09-05T19:01:04.878568",
     "status": "completed"
    },
    "tags": []
   },
   "outputs": [
    {
     "name": "stdout",
     "output_type": "stream",
     "text": [
      "['order_date', 'settlement_date', 'region', 'distributor_code', 'customer_code', 'segmentation', 'channelname', 'order_no', 'item_code', 'brand', 'pack_type', 'pack_size', 'key_so', 'totalec_sr', 'totalNSR_sr', 'totalNSR_so', 'totalec_so', 'diff_ec', 'diff_NSR', 'GPScuslatitude', 'GPScuslongitude', 'GPSdistlatitude', 'GPSdistlongitude']\n",
      "['order_date', 'settlement_date', 'region', 'distributor_code', 'customer_code', 'segmentation', 'channelname', 'order_no', 'item_code', 'brand', 'pack_type', 'pack_size', 'key_so', 'totalec_sr', 'totalNSR_sr', 'totalNSR_so', 'totalec_so', 'diff_ec', 'diff_NSR', 'GPScuslatitude', 'GPScuslongitude', 'GPSdistlatitude', 'GPSdistlongitude', 'distance_km']\n"
     ]
    },
    {
     "name": "stderr",
     "output_type": "stream",
     "text": [
      "[Stage 15:>                                                         (0 + 1) / 1]\r"
     ]
    },
    {
     "name": "stdout",
     "output_type": "stream",
     "text": [
      "+----------+---------------+---------------+----------------+-------------+------------+-----------+------------+---------+------+---------+---------+--------------------+----------+-----------+-----------+----------+-------+--------+--------------+---------------+---------------+----------------+-----------------+\n",
      "|order_date|settlement_date|         region|distributor_code|customer_code|segmentation|channelname|    order_no|item_code| brand|pack_type|pack_size|              key_so|totalec_sr|totalNSR_sr|totalNSR_so|totalec_so|diff_ec|diff_NSR|GPScuslatitude|GPScuslongitude|GPSdistlatitude|GPSdistlongitude|      distance_km|\n",
      "+----------+---------------+---------------+----------------+-------------+------------+-----------+------------+---------+------+---------+---------+--------------------+----------+-----------+-----------+----------+-------+--------+--------------+---------------+---------------+----------------+-----------------+\n",
      "|2023-09-28|     2023-09-29|Central  Region|      0070934570|   0070007703|    DRINKING|     Bronze|000035652808|     2107|*****|      PET|    1.85L|28-09-2023-000035...|      0.25|    41000.0|   41000.01|      0.25|    0.0|    0.01|     16.052324|     108.234291|      16.039998|      108.244726|1.766914988271313|\n",
      "+----------+---------------+---------------+----------------+-------------+------------+-----------+------------+---------+------+---------+---------+--------------------+----------+-----------+-----------+----------+-------+--------+--------------+---------------+---------------+----------------+-----------------+\n",
      "only showing top 1 row\n",
      "\n"
     ]
    },
    {
     "name": "stderr",
     "output_type": "stream",
     "text": [
      "                                                                                \r"
     ]
    }
   ],
   "source": [
    "#1.Left join to get GPS location for Factdata table\n",
    "\n",
    "from pyspark.sql.functions import col\n",
    "\n",
    "# Join factdata and GPScus\n",
    "factdata_with_GPScus = factdata.join(GPScus.alias('GPScus'), factdata.customer_code == GPScus.customerid, \"left\")\n",
    "\n",
    "\n",
    "# Join factdata_with_GPScus and GPSdist\n",
    "final_df = factdata_with_GPScus.join(GPSdist.alias('GPSdist'), factdata_with_GPScus.distributor_code == GPSdist.customerid, \"left\")\n",
    "\n",
    "# Select col from DataFrame \n",
    "final_df = final_df.select(\n",
    "    'order_date',\n",
    "    'settlement_date',\n",
    "    'region',\n",
    "    'distributor_code',\n",
    "    'customer_code',\n",
    "    'segmentation',\n",
    "    'channelname',\n",
    "    'order_no',\n",
    "    'item_code',\n",
    "    'brand',\n",
    "    'pack_type',\n",
    "    'pack_size',\n",
    "    'key_so',\n",
    "    'totalec_sr',\n",
    "    'totalNSR_sr',\n",
    "    'totalNSR_so',\n",
    "    'totalec_so',\n",
    "    'diff_ec',\n",
    "    'diff_NSR',\n",
    "    col('GPScus.latitude').alias('GPScuslatitude'),\n",
    "    col('GPScus.longitude').alias('GPScuslongitude'),\n",
    "    col('GPSdist.latitude').alias('GPSdistlatitude'),\n",
    "    col('GPSdist.longitude').alias('GPSdistlongitude')\n",
    ")\n",
    "#final_df.show()\n",
    "print(final_df.columns)\n",
    "\n",
    "\n",
    "#2.Calculate distance_km: Delivery Distance from Distributor (GPSdist) to Customer(GPScus)\n",
    "\n",
    "import math\n",
    "from pyspark.sql.functions import udf\n",
    "from pyspark.sql.types import DoubleType\n",
    "\n",
    "def haversine(lat1, lon1, lat2, lon2):\n",
    "    # convert radians\n",
    "    lat1, lon1, lat2, lon2 = map(math.radians, [lat1, lon1, lat2, lon2])\n",
    "    \n",
    "    # Haversine formula\n",
    "    dlat = lat2 - lat1\n",
    "    dlon = lon2 - lon1\n",
    "    a = math.sin(dlat / 2)**2 + math.cos(lat1) * math.cos(lat2) * math.sin(dlon / 2)**2\n",
    "    c = 2 * math.atan2(math.sqrt(a), math.sqrt(1 - a))\n",
    "    r = 6371  # Radius of the Earth (km)\n",
    "    return r * c\n",
    "\n",
    "# Create UDF from function haversine\n",
    "haversine_udf = udf(haversine, DoubleType())\n",
    "\n",
    "final_df_with_distance = final_df.withColumn(\n",
    "    'distance_km',\n",
    "    haversine_udf(\n",
    "        col('GPScuslatitude'),\n",
    "        col('GPScuslongitude'),\n",
    "        col('GPSdistlatitude'),\n",
    "        col('GPSdistlongitude')\n",
    "    )\n",
    ")\n",
    "# View DataFrame with distance_km col\n",
    "\n",
    "print(final_df_with_distance.columns)\n",
    "\n",
    "\n"
   ]
  },
  {
   "cell_type": "markdown",
   "id": "9620d0f1",
   "metadata": {},
   "source": [
    "**Fill NA of distance_km variable**"
   ]
  },
  {
   "cell_type": "code",
   "execution_count": 10,
   "id": "b48d3e4f",
   "metadata": {
    "execution": {
     "iopub.execute_input": "2024-09-05T19:07:29.680834Z",
     "iopub.status.busy": "2024-09-05T19:07:29.679974Z",
     "iopub.status.idle": "2024-09-05T19:07:29.739560Z",
     "shell.execute_reply": "2024-09-05T19:07:29.738244Z"
    },
    "papermill": {
     "duration": 0.115965,
     "end_time": "2024-09-05T19:07:29.742738",
     "exception": false,
     "start_time": "2024-09-05T19:07:29.626773",
     "status": "completed"
    },
    "tags": []
   },
   "outputs": [
    {
     "name": "stdout",
     "output_type": "stream",
     "text": [
      "root\n",
      " |-- order_date: date (nullable = true)\n",
      " |-- settlement_date: date (nullable = true)\n",
      " |-- region: string (nullable = true)\n",
      " |-- distributor_code: string (nullable = true)\n",
      " |-- customer_code: string (nullable = true)\n",
      " |-- segmentation: string (nullable = true)\n",
      " |-- channelname: string (nullable = true)\n",
      " |-- order_no: string (nullable = true)\n",
      " |-- item_code: string (nullable = true)\n",
      " |-- brand: string (nullable = true)\n",
      " |-- pack_type: string (nullable = true)\n",
      " |-- pack_size: string (nullable = true)\n",
      " |-- key_so: string (nullable = true)\n",
      " |-- totalec_sr: double (nullable = true)\n",
      " |-- totalNSR_sr: double (nullable = true)\n",
      " |-- totalNSR_so: double (nullable = true)\n",
      " |-- totalec_so: double (nullable = true)\n",
      " |-- diff_ec: double (nullable = true)\n",
      " |-- diff_NSR: double (nullable = true)\n",
      " |-- GPScuslatitude: double (nullable = true)\n",
      " |-- GPScuslongitude: double (nullable = true)\n",
      " |-- GPSdistlatitude: double (nullable = true)\n",
      " |-- GPSdistlongitude: double (nullable = true)\n",
      " |-- distance_km: double (nullable = true)\n",
      "\n"
     ]
    }
   ],
   "source": [
    "\n",
    "#3.Data processing GPS is Null and 0\n",
    "\n",
    "\n",
    "#3.1 Filter GPS is Null and GPS=0\n",
    "from pyspark.sql.functions import concat, lit, avg, col, when\n",
    "\n",
    "final_df_with_distance.cache()\n",
    "final_df_with_distance_notnull=final_df_with_distance.filter(\n",
    "    (col(\"GPScuslatitude\").isNotNull()) & (col(\"GPScuslongitude\").isNotNull()) & \n",
    "    (col(\"GPSdistlatitude\") != 0) & (col(\"GPSdistlongitude\") != 0)\n",
    ")   \n",
    "\n",
    "final_df_with_distance_notnull.printSchema()\n"
   ]
  },
  {
   "cell_type": "code",
   "execution_count": 11,
   "id": "4ac4f002",
   "metadata": {
    "_kg_hide-input": true,
    "execution": {
     "iopub.execute_input": "2024-09-05T19:07:29.814110Z",
     "iopub.status.busy": "2024-09-05T19:07:29.813306Z",
     "iopub.status.idle": "2024-09-05T19:07:29.819102Z",
     "shell.execute_reply": "2024-09-05T19:07:29.817885Z"
    },
    "papermill": {
     "duration": 0.043673,
     "end_time": "2024-09-05T19:07:29.821514",
     "exception": false,
     "start_time": "2024-09-05T19:07:29.777841",
     "status": "completed"
    },
    "tags": []
   },
   "outputs": [],
   "source": [
    "#3.2 Calculate median of distance_km column\n",
    "\n",
    "from pyspark.sql.window import Window\n",
    "from pyspark.sql.functions import col, row_number, count\n",
    "\n",
    "# Create a Window specification to order by 'distance_km'\n",
    "\n",
    "window_spec = Window.orderBy(col(\"distance_km\"))\n",
    "\n",
    "final_df_with_distance_notnull=final_df_with_distance_notnull.cache()\n",
    "\n",
    "# Add a row number column\n",
    "df_with_row_number = final_df_with_distance_notnull.withColumn(\"row_number\", row_number().over(window_spec)).cache()\n",
    "\n",
    "# Count the total number of rows\n",
    "\n",
    "total_count = final_df_with_distance_notnull.count()\n",
    "\n",
    "# Calculate the median position\n",
    "\n",
    "median_position = (total_count + 1) // 2\n",
    "\n",
    "# Get the median value\n",
    "\n",
    "median_df = df_with_row_number.filter(col(\"row_number\") == median_position).select(\"distance_km\")\n",
    "\n",
    "# In case of even number of rows, compute the average of the two middle values\n",
    "\n",
    "if total_count % 2 == 0:\n",
    "   median_position_2 = median_position + 1\n",
    "   median_df_2 = df_with_row_number.filter(col(\"row_number\") == median_position_2).select(\"distance_km\")\n",
    "   median_value = (median_df.collect()[0][0] + median_df_2.collect()[0][0]) / 2\n",
    "else:\n",
    "   median_value = median_df.collect()[0][0]\n",
    "\n",
    "print(f\"median_distance_km: {median_value}\")\n",
    "#median_distance_km = 5.881606785112515"
   ]
  },
  {
   "cell_type": "code",
   "execution_count": 12,
   "id": "39963665",
   "metadata": {
    "execution": {
     "iopub.execute_input": "2024-09-05T19:07:29.955673Z",
     "iopub.status.busy": "2024-09-05T19:07:29.955247Z",
     "iopub.status.idle": "2024-09-05T19:07:30.431019Z",
     "shell.execute_reply": "2024-09-05T19:07:30.429639Z"
    },
    "papermill": {
     "duration": 0.513949,
     "end_time": "2024-09-05T19:07:30.434630",
     "exception": false,
     "start_time": "2024-09-05T19:07:29.920681",
     "status": "completed"
    },
    "tags": []
   },
   "outputs": [
    {
     "name": "stdout",
     "output_type": "stream",
     "text": [
      "+----------+---------------+---------------+----------------+-------------+------------+-----------+------------+---------+------+---------+---------+--------------------+----------+-----------+-----------+----------+-------+--------+--------------+---------------+---------------+----------------+-----------------+\n",
      "|order_date|settlement_date|         region|distributor_code|customer_code|segmentation|channelname|    order_no|item_code| brand|pack_type|pack_size|              key_so|totalec_sr|totalNSR_sr|totalNSR_so|totalec_so|diff_ec|diff_NSR|GPScuslatitude|GPScuslongitude|GPSdistlatitude|GPSdistlongitude|      distance_km|\n",
      "+----------+---------------+---------------+----------------+-------------+------------+-----------+------------+---------+------+---------+---------+--------------------+----------+-----------+-----------+----------+-------+--------+--------------+---------------+---------------+----------------+-----------------+\n",
      "|2023-09-28|     2023-09-29|Central  Region|      0070934570|   0070007703|    DRINKING|     Bronze|000035652808|     2107|******|      PET|    1.85L|28-09-2023-000035...|      0.25|    41000.0|   41000.01|      0.25|    0.0|    0.01|     16.052324|     108.234291|      16.039998|      108.244726|1.766914988271313|\n",
      "+----------+---------------+---------------+----------------+-------------+------------+-----------+------------+---------+------+---------+---------+--------------------+----------+-----------+-----------+----------+-------+--------+--------------+---------------+---------------+----------------+-----------------+\n",
      "only showing top 1 row\n",
      "\n"
     ]
    }
   ],
   "source": [
    "#Fill Missing Value equal median\n",
    "\n",
    "\n",
    "median_distance_km = 5.881606785112515\n",
    "\n",
    "from pyspark.sql.functions import when\n",
    "\n",
    "condition = (\n",
    "    (col('GPScuslatitude') == 0) |\n",
    "    (col('GPScuslongitude') == 0) |\n",
    "    (col('GPSdistlatitude') == 0) |\n",
    "    (col('GPSdistlongitude') == 0) |\n",
    "    col('distance_km').isNull() |\n",
    "    (col('distance_km') == 'N/A')\n",
    ")\n",
    "\n",
    "\n",
    "# Apply the condition to fill the distance_km column\n",
    "final_df_with_distance=final_df_with_distance.cache()\n",
    "final_df_filled = final_df_with_distance.withColumn(\n",
    "    'distance_km',\n",
    "    when(condition, median_distance_km).otherwise(col('distance_km'))\n",
    ")\n",
    "\n",
    "final_df_filled = final_df_filled.withColumn('order_date', to_date(col('order_date'), 'MM-dd-yyyy')) # Định dạng mẫu ví dụ\n",
    "final_df_filled = final_df_filled.withColumn('settlement_date', to_date(col('settlement_date'), 'MM-dd-yyyy')) # Định dạng mẫu ví dụ\n",
    "\n",
    "# Verify the results\n",
    "final_df_filled.show(1)"
   ]
  },
  {
   "cell_type": "markdown",
   "id": "fa742800",
   "metadata": {},
   "source": [
    "**Remove outlier of distance variance**"
   ]
  },
  {
   "cell_type": "code",
   "execution_count": 13,
   "id": "5645577d",
   "metadata": {
    "execution": {
     "iopub.execute_input": "2024-09-05T19:07:30.547661Z",
     "iopub.status.busy": "2024-09-05T19:07:30.546405Z",
     "iopub.status.idle": "2024-09-05T19:07:30.552671Z",
     "shell.execute_reply": "2024-09-05T19:07:30.551550Z"
    },
    "papermill": {
     "duration": 0.067097,
     "end_time": "2024-09-05T19:07:30.555593",
     "exception": false,
     "start_time": "2024-09-05T19:07:30.488496",
     "status": "completed"
    },
    "tags": []
   },
   "outputs": [],
   "source": [
    "#Normality test to choose Remove Outlier Method (IQR/STD)\n",
    "\n",
    "sample_df = final_df_filled.sample(fraction=0.3)\n",
    "\n",
    "# Convert to Pandas\n",
    "data_pd = sample_df.select(\"distance_km\").toPandas()['distance_km']\n",
    "\n",
    "# Normality test\n",
    "from scipy.stats import shapiro\n",
    "stat, p_value = shapiro(data_pd)\n",
    "print(f\"Shapiro-Wilk Test Statistic: {stat}, p-value: {p_value}\")\n",
    "\n",
    "#Conclude final_df_filled \"distance_km\" does not follow a normal distribution\n"
   ]
  },
  {
   "cell_type": "code",
   "execution_count": 14,
   "id": "7ebfd05f",
   "metadata": {
    "execution": {
     "iopub.execute_input": "2024-09-05T19:07:30.661649Z",
     "iopub.status.busy": "2024-09-05T19:07:30.661268Z",
     "iopub.status.idle": "2024-09-05T19:19:31.858996Z",
     "shell.execute_reply": "2024-09-05T19:19:31.856381Z"
    },
    "papermill": {
     "duration": 721.249974,
     "end_time": "2024-09-05T19:19:31.862460",
     "exception": false,
     "start_time": "2024-09-05T19:07:30.612486",
     "status": "completed"
    },
    "tags": []
   },
   "outputs": [
    {
     "name": "stderr",
     "output_type": "stream",
     "text": [
      "[Stage 29:=====================================================>(792 + 4) / 800]\r"
     ]
    },
    {
     "name": "stdout",
     "output_type": "stream",
     "text": [
      "IQR: 8.174997098652394\n",
      "Lower Bound: -13.698611900619364\n",
      "Upper Bound: 27.176373592642605\n",
      "Remaining Data Percentage: 90.82%\n"
     ]
    },
    {
     "name": "stderr",
     "output_type": "stream",
     "text": [
      "                                                                                \r"
     ]
    }
   ],
   "source": [
    "#Remove outliers using IQR method\n",
    "\n",
    "from pyspark.sql.functions import col\n",
    "from pyspark.sql import SparkSession\n",
    "\n",
    "# Spark session\n",
    "spark = SparkSession.builder.appName(\"OutlierDetection\").getOrCreate()\n",
    "\n",
    "# Calculate (Q1 và Q3) and IQR\n",
    "# Using approxQuantile\n",
    "quantiles = final_df_filled.approxQuantile(\"distance_km\", [0.25, 0.75], 0.01)\n",
    "\n",
    "Q1 = quantiles[0]\n",
    "Q3 = quantiles[1]\n",
    "IQR = Q3 - Q1\n",
    "\n",
    "# Calculate bound outlier\n",
    "lower_bound = Q1 - 2 * IQR\n",
    "upper_bound = Q3 + 2 * IQR\n",
    "\n",
    "# Remove outliers\n",
    "filtered_outliers_df = final_df_filled.filter(\n",
    "    (col('distance_km') >= lower_bound) & (col('distance_km') <= upper_bound)\n",
    ")\n",
    "\n",
    "# Bước 4: Checking remaining data\n",
    "total_rows = final_df_filled.count()\n",
    "filtered_rows = filtered_outliers_df.count()\n",
    "remaining_data_percentage = (filtered_rows / total_rows) * 100\n",
    "\n",
    "print(f\"IQR: {IQR}\")\n",
    "print(f\"Lower Bound: {lower_bound}\")\n",
    "print(f\"Upper Bound: {upper_bound}\")\n",
    "print(f\"Remaining Data Percentage: {remaining_data_percentage:.2f}%\")\n",
    " "
   ]
  },
  {
   "cell_type": "markdown",
   "id": "e189bdbe",
   "metadata": {
    "papermill": {
     "duration": 0.076828,
     "end_time": "2024-09-05T19:19:32.015515",
     "exception": false,
     "start_time": "2024-09-05T19:19:31.938687",
     "status": "completed"
    },
    "tags": []
   },
   "source": [
    "**Visualize Distance_km variable**"
   ]
  },
  {
   "cell_type": "code",
   "execution_count": 15,
   "id": "eb96aa1f",
   "metadata": {
    "execution": {
     "iopub.execute_input": "2024-09-05T19:19:32.175388Z",
     "iopub.status.busy": "2024-09-05T19:19:32.174906Z",
     "iopub.status.idle": "2024-09-05T19:20:40.832340Z",
     "shell.execute_reply": "2024-09-05T19:20:40.831168Z"
    },
    "papermill": {
     "duration": 68.738197,
     "end_time": "2024-09-05T19:20:40.834700",
     "exception": false,
     "start_time": "2024-09-05T19:19:32.096503",
     "status": "completed"
    },
    "tags": []
   },
   "outputs": [
    {
     "name": "stderr",
     "output_type": "stream",
     "text": [
      "                                                                                \r"
     ]
    },
    {
     "data": {
      "image/png": "[encoded data removed]",
      "text/plain": [
       "<Figure size 640x480 with 1 Axes>"
      ]
     },
     "metadata": {},
     "output_type": "display_data"
    }
   ],
   "source": [
    "import matplotlib.pyplot as plt\n",
    "\n",
    "# Step 1: Compute histogram in Spark using the specified bin edges\n",
    "bin_edges = list(range(0, 30, 2))  # Adjusted to include 30 as the last bin edge\n",
    "hist_data = filtered_outliers_df.select('distance_km').rdd.flatMap(lambda x: x).histogram(bin_edges)\n",
    "\n",
    "# Extract bin edges and frequencies\n",
    "frequencies = hist_data[1]\n",
    "bin_edges = hist_data[0]\n",
    "\n",
    "# Convert frequencies to percentage contribution\n",
    "total = sum(frequencies)\n",
    "percentages = [(freq / total) * 100 for freq in frequencies]\n",
    "\n",
    "# Step 2: Plot the histogram with percentage contribution\n",
    "plt.bar(bin_edges[:-1], percentages, width=2, edgecolor='black', align='edge')\n",
    "\n",
    "# Add percentage labels on top of each bar\n",
    "for i in range(len(percentages)):\n",
    "    plt.text(bin_edges[i]+1, percentages[i] + 0.5, f'{percentages[i]:.1f}%', ha='center', fontsize=8)\n",
    "\n",
    "plt.xlabel('Distance (km)')\n",
    "plt.ylabel('Percentage Contribution (%)')\n",
    "plt.title('Distribution of Distance (km) - Percentage Contribution')\n",
    "plt.xticks(bin_edges)  # Set x-axis ticks to match bin edges\n",
    "\n",
    "# Limit x-axis to 0 to 30\n",
    "plt.xlim(0, 28)\n",
    "plt.ylim(0, 25)\n",
    "plt.xticks(bin_edges) \n",
    "#plt.show()\n",
    "\n",
    "\n",
    "import pandas as pd\n",
    "\n",
    "# Prepare data for tabular format\n",
    "table_data = {\n",
    "    'Distance (Km)': [f'{start}-{end}' for start, end in zip(bin_edges[:-1], bin_edges[1:])],\n",
    "    'Frequency': [f'{freq:,}' for freq in frequencies],\n",
    "    'Percentage Contribution (%)': [f'{round(pct, 1)}%' for pct in percentages]\n",
    "}\n",
    "\n",
    "# Create DataFrame\n",
    "table_df = pd.DataFrame(table_data)\n",
    "\n",
    "# Remove rows where 'Distance (Km)' is '28-30'\n",
    "table_df = table_df[table_df['Distance (Km)'] != '28-30']\n",
    "\n",
    "# Display the table with borders and no index\n",
    "print(table_df.to_string(index=False, formatters={'Frequency': '{:<}'.format, 'Percentage Contribution (%)': '{:<}'.format}))\n"
   ]
  },
  {
   "cell_type": "markdown",
   "id": "1bcb0013",
   "metadata": {
    "papermill": {
     "duration": 0.086462,
     "end_time": "2024-09-05T19:20:41.010660",
     "exception": false,
     "start_time": "2024-09-05T19:20:40.924198",
     "status": "completed"
    },
    "tags": []
   },
   "source": [
    "**Delivery Time Variable**"
   ]
  },
  {
   "cell_type": "code",
   "execution_count": 16,
   "id": "3d51a988",
   "metadata": {
    "execution": {
     "iopub.execute_input": "2024-09-05T19:20:41.195081Z",
     "iopub.status.busy": "2024-09-05T19:20:41.194188Z",
     "iopub.status.idle": "2024-09-05T19:20:41.451604Z",
     "shell.execute_reply": "2024-09-05T19:20:41.450370Z"
    },
    "papermill": {
     "duration": 0.353433,
     "end_time": "2024-09-05T19:20:41.455399",
     "exception": false,
     "start_time": "2024-09-05T19:20:41.101966",
     "status": "completed"
    },
    "tags": []
   },
   "outputs": [
    {
     "name": "stdout",
     "output_type": "stream",
     "text": [
      "root\n",
      " |-- order_date: date (nullable = true)\n",
      " |-- settlement_date: date (nullable = true)\n",
      " |-- region: string (nullable = true)\n",
      " |-- distributor_code: string (nullable = true)\n",
      " |-- customer_code: string (nullable = true)\n",
      " |-- segmentation: string (nullable = true)\n",
      " |-- channelname: string (nullable = true)\n",
      " |-- order_no: string (nullable = true)\n",
      " |-- item_code: string (nullable = true)\n",
      " |-- brand: string (nullable = true)\n",
      " |-- pack_type: string (nullable = true)\n",
      " |-- pack_size: string (nullable = true)\n",
      " |-- key_so: string (nullable = true)\n",
      " |-- totalec_sr: double (nullable = true)\n",
      " |-- totalNSR_sr: double (nullable = true)\n",
      " |-- totalNSR_so: double (nullable = true)\n",
      " |-- totalec_so: double (nullable = true)\n",
      " |-- diff_ec: double (nullable = true)\n",
      " |-- diff_NSR: double (nullable = true)\n",
      " |-- GPScuslatitude: double (nullable = true)\n",
      " |-- GPScuslongitude: double (nullable = true)\n",
      " |-- GPSdistlatitude: double (nullable = true)\n",
      " |-- GPSdistlongitude: double (nullable = true)\n",
      " |-- distance_km: double (nullable = true)\n",
      " |-- DeliveryDay: double (nullable = true)\n",
      "\n"
     ]
    }
   ],
   "source": [
    "\n",
    "from pyspark.sql.functions import col, datediff\n",
    "\n",
    "filtered_outliers_df = filtered_outliers_df.withColumn(\n",
    "    \"DeliveryDay\", datediff(col(\"settlement_date\"), col(\"order_date\"))\n",
    ")\n",
    "\n",
    "filtered_outliers_df = filtered_outliers_df.withColumn(\n",
    "  \"DeliveryDay\", col(\"DeliveryDay\").cast(\"double\")\n",
    ")\n",
    "\n",
    "filtered_outliers_df.printSchema()"
   ]
  },
  {
   "cell_type": "markdown",
   "id": "040cefe7",
   "metadata": {},
   "source": [
    "**Ontime when DeliveryDay <= 2 (exclude day off)**"
   ]
  },
  {
   "cell_type": "code",
   "execution_count": 17,
   "id": "d7451a64",
   "metadata": {
    "execution": {
     "iopub.execute_input": "2024-09-05T19:20:41.632456Z",
     "iopub.status.busy": "2024-09-05T19:20:41.632004Z",
     "iopub.status.idle": "2024-09-05T19:30:36.761894Z",
     "shell.execute_reply": "2024-09-05T19:30:36.760343Z"
    },
    "papermill": {
     "duration": 595.22258,
     "end_time": "2024-09-05T19:30:36.765830",
     "exception": false,
     "start_time": "2024-09-05T19:20:41.543250",
     "status": "completed"
    },
    "tags": []
   },
   "outputs": [
    {
     "name": "stdout",
     "output_type": "stream",
     "text": [
      "root\n",
      " |-- order_date: date (nullable = true)\n",
      " |-- settlement_date: date (nullable = true)\n",
      " |-- region: string (nullable = true)\n",
      " |-- distributor_code: string (nullable = true)\n",
      " |-- customer_code: string (nullable = true)\n",
      " |-- segmentation: string (nullable = true)\n",
      " |-- channelname: string (nullable = true)\n",
      " |-- order_no: string (nullable = true)\n",
      " |-- item_code: string (nullable = true)\n",
      " |-- brand: string (nullable = true)\n",
      " |-- pack_type: string (nullable = true)\n",
      " |-- pack_size: string (nullable = true)\n",
      " |-- key_so: string (nullable = true)\n",
      " |-- totalec_sr: double (nullable = true)\n",
      " |-- totalNSR_sr: double (nullable = true)\n",
      " |-- totalNSR_so: double (nullable = true)\n",
      " |-- totalec_so: double (nullable = true)\n",
      " |-- diff_ec: double (nullable = true)\n",
      " |-- diff_NSR: double (nullable = true)\n",
      " |-- GPScuslatitude: double (nullable = true)\n",
      " |-- GPScuslongitude: double (nullable = true)\n",
      " |-- GPSdistlatitude: double (nullable = true)\n",
      " |-- GPSdistlongitude: double (nullable = true)\n",
      " |-- distance_km: double (nullable = true)\n",
      " |-- DeliveryDay: double (nullable = true)\n",
      "\n",
      "root\n",
      " |-- order_key: string (nullable = true)\n",
      " |-- days_off_count: long (nullable = false)\n",
      "\n"
     ]
    },
    {
     "name": "stderr",
     "output_type": "stream",
     "text": [
      "[Stage 40:>                                                         (0 + 1) / 1]\r"
     ]
    },
    {
     "name": "stdout",
     "output_type": "stream",
     "text": [
      "+--------------------+----------+---------------+-----------------+----------------+-------------+------------+-----------+------------+---------+-----+---------+---------+--------------------+----------+-----------+-----------+----------+-------+--------+--------------+---------------+---------------+----------------+-----------------+-----------+--------------+-------------+------+\n",
      "|           order_key|order_date|settlement_date|           region|distributor_code|customer_code|segmentation|channelname|    order_no|item_code|brand|pack_type|pack_size|              key_so|totalec_sr|totalNSR_sr|totalNSR_so|totalec_so|diff_ec|diff_NSR|GPScuslatitude|GPScuslongitude|GPSdistlatitude|GPSdistlongitude|      distance_km|DeliveryDay|days_off_count|Dayprocessing|Ontime|\n",
      "+--------------------+----------+---------------+-----------------+----------------+-------------+------------+-----------+------------+---------+-----+---------+---------+--------------------+----------+-----------+-----------+----------+-------+--------+--------------+---------------+---------------+----------------+-----------------+-----------+--------------+-------------+------+\n",
      "|2023-05-03-000029...|2023-05-03|     2023-05-03|North West Region|      0071008438|   0070521907|    DRINKING|       Gold|000029596366|     2481|*****|      PET|    300ML|03-05-2023-000029...|     0.125|   12249.99|   12249.99|     0.125|    0.0|     0.0|     21.819354|     105.212758|       21.76061|       105.18629|7.080664303265689|        0.0|             0|          0.0|   Yes|\n",
      "+--------------------+----------+---------------+-----------------+----------------+-------------+------------+-----------+------------+---------+-----+---------+---------+--------------------+----------+-----------+-----------+----------+-------+--------+--------------+---------------+---------------+----------------+-----------------+-----------+--------------+-------------+------+\n",
      "only showing top 1 row\n",
      "\n",
      "root\n",
      " |-- order_key: string (nullable = true)\n",
      " |-- order_date: date (nullable = true)\n",
      " |-- settlement_date: date (nullable = true)\n",
      " |-- region: string (nullable = true)\n",
      " |-- distributor_code: string (nullable = true)\n",
      " |-- customer_code: string (nullable = true)\n",
      " |-- segmentation: string (nullable = true)\n",
      " |-- channelname: string (nullable = true)\n",
      " |-- order_no: string (nullable = true)\n",
      " |-- item_code: string (nullable = true)\n",
      " |-- brand: string (nullable = true)\n",
      " |-- pack_type: string (nullable = true)\n",
      " |-- pack_size: string (nullable = true)\n",
      " |-- key_so: string (nullable = true)\n",
      " |-- totalec_sr: double (nullable = true)\n",
      " |-- totalNSR_sr: double (nullable = true)\n",
      " |-- totalNSR_so: double (nullable = true)\n",
      " |-- totalec_so: double (nullable = true)\n",
      " |-- diff_ec: double (nullable = true)\n",
      " |-- diff_NSR: double (nullable = true)\n",
      " |-- GPScuslatitude: double (nullable = true)\n",
      " |-- GPScuslongitude: double (nullable = true)\n",
      " |-- GPSdistlatitude: double (nullable = true)\n",
      " |-- GPSdistlongitude: double (nullable = true)\n",
      " |-- distance_km: double (nullable = true)\n",
      " |-- DeliveryDay: double (nullable = true)\n",
      " |-- days_off_count: long (nullable = false)\n",
      " |-- Dayprocessing: double (nullable = true)\n",
      " |-- Ontime: string (nullable = false)\n",
      "\n"
     ]
    },
    {
     "name": "stderr",
     "output_type": "stream",
     "text": [
      "                                                                                \r"
     ]
    }
   ],
   "source": [
    "from pyspark.sql.functions import col, countDistinct, concat, lit, when, coalesce\n",
    "from pyspark.sql import functions as F\n",
    "\n",
    "# Step 1: Perform a left join between the two DataFrames based on the date range condition\n",
    "joined_df = filtered_outliers_df.join(\n",
    "    Listdayoff,\n",
    "    (col(\"d_date\") >= col(\"order_date\")) & (col(\"d_date\") <= col(\"settlement_date\")),\n",
    "    \"left\"\n",
    ")\n",
    "\n",
    "# Step 2: Create a new key by concatenating \"order_date\", \"order_no\", \"settlement_date\", and \"customer_code\" and group by this key\n",
    "days_off_count_df = joined_df.withColumn(\n",
    "    \"order_key\", concat(col(\"order_date\").cast(\"string\"), lit('-'), col(\"order_no\"), lit('-'), col(\"settlement_date\"), lit('-'), col(\"customer_code\"))\n",
    ").groupBy(\"order_key\").agg(\n",
    "    countDistinct(\"d_date\").alias(\"days_off_count\")\n",
    ")\n",
    "\n",
    "filtered_outliers_df.printSchema()\n",
    "days_off_count_df.printSchema()\n",
    "\n",
    "# Step 3: Join this result back to the original DataFrame using the new key and calculate Dayprocessing\n",
    "filtered_outliers_df = filtered_outliers_df.withColumn(\n",
    "    \"order_key\", concat(col(\"order_date\").cast(\"string\"), lit('-'), col(\"order_no\"), lit('-'), col(\"settlement_date\"), lit('-'), col(\"customer_code\"))\n",
    ").join(\n",
    "    days_off_count_df, \"order_key\", \"left\"\n",
    ").withColumn(\n",
    "    \"days_off_count\", coalesce(days_off_count_df[\"days_off_count\"], lit(0))\n",
    ").withColumn(\n",
    "    \"Dayprocessing\", when(col(\"DeliveryDay\") - col(\"days_off_count\") < 0, lit(0))\n",
    "                    .otherwise(col(\"DeliveryDay\") - col(\"days_off_count\"))\n",
    ")\n",
    "\n",
    "# Create 'Ontime'column\n",
    "filtered_outliers_df = filtered_outliers_df.withColumn(\n",
    "    \"Ontime\", when(col(\"Dayprocessing\") <= 2, \"Yes\").otherwise(\"No\")\n",
    ")\n",
    "\n",
    "# Show the resulting DataFrame with the new column\n",
    "filtered_outliers_df.show(1)\n",
    "\n",
    "# Print the schema of the resulting DataFrame\n",
    "filtered_outliers_df.printSchema()\n"
   ]
  },
  {
   "cell_type": "markdown",
   "id": "164f4cc2",
   "metadata": {
    "papermill": {
     "duration": 0.156888,
     "end_time": "2024-09-05T19:30:37.108623",
     "exception": false,
     "start_time": "2024-09-05T19:30:36.951735",
     "status": "completed"
    },
    "tags": []
   },
   "source": [
    "**INFULL & DIFOT Variable** "
   ]
  },
  {
   "cell_type": "code",
   "execution_count": 18,
   "id": "0d716411",
   "metadata": {
    "execution": {
     "iopub.execute_input": "2024-09-05T19:30:37.420967Z",
     "iopub.status.busy": "2024-09-05T19:30:37.420524Z",
     "iopub.status.idle": "2024-09-05T19:30:37.681568Z",
     "shell.execute_reply": "2024-09-05T19:30:37.680007Z"
    },
    "papermill": {
     "duration": 0.423009,
     "end_time": "2024-09-05T19:30:37.684355",
     "exception": false,
     "start_time": "2024-09-05T19:30:37.261346",
     "status": "completed"
    },
    "tags": []
   },
   "outputs": [
    {
     "name": "stdout",
     "output_type": "stream",
     "text": [
      "root\n",
      " |-- order_key: string (nullable = true)\n",
      " |-- order_date: date (nullable = true)\n",
      " |-- settlement_date: date (nullable = true)\n",
      " |-- region: string (nullable = true)\n",
      " |-- distributor_code: string (nullable = true)\n",
      " |-- customer_code: string (nullable = true)\n",
      " |-- segmentation: string (nullable = true)\n",
      " |-- channelname: string (nullable = true)\n",
      " |-- order_no: string (nullable = true)\n",
      " |-- item_code: string (nullable = true)\n",
      " |-- brand: string (nullable = true)\n",
      " |-- pack_type: string (nullable = true)\n",
      " |-- pack_size: string (nullable = true)\n",
      " |-- key_so: string (nullable = true)\n",
      " |-- totalec_sr: double (nullable = true)\n",
      " |-- totalNSR_sr: double (nullable = true)\n",
      " |-- totalNSR_so: double (nullable = true)\n",
      " |-- totalec_so: double (nullable = true)\n",
      " |-- diff_ec: double (nullable = true)\n",
      " |-- diff_NSR: double (nullable = true)\n",
      " |-- GPScuslatitude: double (nullable = true)\n",
      " |-- GPScuslongitude: double (nullable = true)\n",
      " |-- GPSdistlatitude: double (nullable = true)\n",
      " |-- GPSdistlongitude: double (nullable = true)\n",
      " |-- distance_km: double (nullable = true)\n",
      " |-- DeliveryDay: double (nullable = true)\n",
      " |-- days_off_count: long (nullable = false)\n",
      " |-- Dayprocessing: double (nullable = true)\n",
      " |-- Ontime: string (nullable = false)\n",
      " |-- Infull: string (nullable = false)\n",
      " |-- DIFOT: string (nullable = false)\n",
      "\n"
     ]
    }
   ],
   "source": [
    "filtered_outliers_df.cache()\n",
    "filtered_outliers_df = filtered_outliers_df.withColumn(\n",
    "    \"Infull\", when(col(\"diff_ec\") <= 0.1, \"Yes\").otherwise(\"No\")\n",
    ")\n",
    "filtered_outliers_df = filtered_outliers_df.withColumn(\n",
    "    \"DIFOT\", when((col(\"Infull\") == \"Yes\") & (col(\"Ontime\") == \"Yes\"), \"Yes\").otherwise(\"No\")\n",
    ")\n",
    "\n",
    "filtered_outliers_df.printSchema()\n"
   ]
  },
  {
   "cell_type": "code",
   "execution_count": 21,
   "id": "6d0590d0",
   "metadata": {
    "execution": {
     "iopub.execute_input": "2024-09-05T19:58:31.308920Z",
     "iopub.status.busy": "2024-09-05T19:58:31.308462Z",
     "iopub.status.idle": "2024-09-05T20:06:31.362542Z",
     "shell.execute_reply": "2024-09-05T20:06:31.361200Z"
    },
    "papermill": {
     "duration": 480.379569,
     "end_time": "2024-09-05T20:06:31.366825",
     "exception": false,
     "start_time": "2024-09-05T19:58:30.987256",
     "status": "completed"
    },
    "tags": []
   },
   "outputs": [
    {
     "name": "stderr",
     "output_type": "stream",
     "text": [
      "                                                                                \r"
     ]
    }
   ],
   "source": [
    "filtered_outliers_df.cache()\n",
    "\n",
    "# Step 2: Specify the output path for compressed CSV (gzip)\n",
    "output_path = \"/kaggle/working/datafortrainingmodel.csv.gz\"\n",
    "\n",
    "# Step 3: Write the DataFrame to a compressed CSV file using gzip\n",
    "filtered_outliers_df.write.csv(output_path, header=True, mode='overwrite', compression='gzip')\n",
    "\n",
    "\n",
    "\n",
    "\n"
   ]
  },
  {
   "cell_type": "markdown",
   "id": "b898483e",
   "metadata": {},
   "source": [
    "**Export data frame after Processing**"
   ]
  },
  {
   "cell_type": "code",
   "execution_count": 22,
   "id": "015f226b",
   "metadata": {
    "execution": {
     "iopub.execute_input": "2024-09-05T20:06:32.146281Z",
     "iopub.status.busy": "2024-09-05T20:06:32.145805Z",
     "iopub.status.idle": "2024-09-05T20:07:51.450057Z",
     "shell.execute_reply": "2024-09-05T20:07:51.447990Z"
    },
    "papermill": {
     "duration": 79.658727,
     "end_time": "2024-09-05T20:07:51.453087",
     "exception": false,
     "start_time": "2024-09-05T20:06:31.794360",
     "status": "completed"
    },
    "tags": []
   },
   "outputs": [],
   "source": [
    "import zipfile\n",
    "import os\n",
    "\n",
    "# Thư mục chứa các file .gz\n",
    "source_dir = \"/kaggle/working/\"\n",
    "# Đường dẫn file zip bạn muốn tạo\n",
    "zip_file_path = \"/kaggle/working/datafortrainingmodel.zip\"\n",
    "\n",
    "# Tạo một file .zip và thêm các file .gz vào\n",
    "with zipfile.ZipFile(zip_file_path, 'w', zipfile.ZIP_DEFLATED) as zipf:\n",
    "    # Duyệt tất cả các file trong thư mục\n",
    "    for root, dirs, files in os.walk(source_dir):\n",
    "        for file in files:\n",
    "            if file.endswith('.gz'):\n",
    "                file_path = os.path.join(root, file)\n",
    "                # Thêm file vào zip với tên file gốc\n",
    "                zipf.write(file_path, os.path.basename(file_path))\n"
   ]
  },
  {
   "cell_type": "code",
   "execution_count": null,
   "id": "0e85ea57",
   "metadata": {
    "execution": {
     "iopub.execute_input": "2024-09-05T20:07:52.163838Z",
     "iopub.status.busy": "2024-09-05T20:07:52.162611Z",
     "iopub.status.idle": "2024-09-05T20:07:52.195504Z",
     "shell.execute_reply": "2024-09-05T20:07:52.193495Z"
    },
    "papermill": {
     "duration": 0.393026,
     "end_time": "2024-09-05T20:07:52.197804",
     "exception": true,
     "start_time": "2024-09-05T20:07:51.804778",
     "status": "failed"
    },
    "tags": []
   },
   "outputs": [],
   "source": [
    "import os -> os.chdir(r'/kaggle/working/datafortrainingmodel.zip')\n",
    "from IPython.display import FileLink -> FileLink(r'/kaggle/working/datafortrainingmodel.zip')\n"
   ]
  }
 ],
 "metadata": {
  "kaggle": {
   "accelerator": "none",
   "dataSources": [],
   "dockerImageVersionId": 30762,
   "isGpuEnabled": false,
   "isInternetEnabled": true,
   "language": "python",
   "sourceType": "notebook"
  },
  "kernelspec": {
   "display_name": "Python 3",
   "language": "python",
   "name": "python3"
  },
  "language_info": {
   "codemirror_mode": {
    "name": "ipython",
    "version": 3
   },
   "file_extension": ".py",
   "mimetype": "text/x-python",
   "name": "python",
   "nbconvert_exporter": "python",
   "pygments_lexer": "ipython3",
   "version": "3.10.14"
  },
  "papermill": {
   "default_parameters": {},
   "duration": 4254.591726,
   "end_time": "2024-09-05T20:07:55.184011",
   "environment_variables": {},
   "exception": true,
   "input_path": "__notebook__.ipynb",
   "output_path": "__notebook__.ipynb",
   "parameters": {},
   "start_time": "2024-09-05T18:57:00.592285",
   "version": "2.6.0"
  }
 },
 "nbformat": 4,
 "nbformat_minor": 5
}
