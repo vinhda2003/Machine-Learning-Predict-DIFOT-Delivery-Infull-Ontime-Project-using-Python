{
 "cells": [
  {
   "cell_type": "markdown",
   "id": "52961a7a",
   "metadata": {
    "papermill": {
     "duration": 0.013523,
     "end_time": "2024-09-16T17:56:34.205144",
     "exception": false,
     "start_time": "2024-09-16T17:56:34.191621",
     "status": "completed"
    },
    "tags": []
   },
   "source": [
    "**Data Processing Stage 2** "
   ]
  },
  {
   "cell_type": "code",
   "execution_count": 5,
   "id": "a6395752",
   "metadata": {
    "execution": {
     "iopub.execute_input": "2024-09-16T17:56:34.234182Z",
     "iopub.status.busy": "2024-09-16T17:56:34.233820Z",
     "iopub.status.idle": "2024-09-16T17:57:17.064037Z",
     "shell.execute_reply": "2024-09-16T17:57:17.062887Z"
    },
    "papermill": {
     "duration": 42.847511,
     "end_time": "2024-09-16T17:57:17.066276",
     "exception": false,
     "start_time": "2024-09-16T17:56:34.218765",
     "status": "completed"
    },
    "tags": []
   },
   "outputs": [
    {
     "name": "stdout",
     "output_type": "stream",
     "text": [
      "/opt/conda/lib/python3.10/site-packages/gdown/__main__.py:140: FutureWarning: Option `--id` was deprecated in version 4.3.1 and will be removed in 5.0. You don't need to pass it anymore to use a file ID.\r\n",
      "  warnings.warn(\r\n",
      "Downloading...\r\n",
      "From (original): https://drive.google.com/uc?id=1eHgcyfH1JrKoLxo-BB3D5OZrKxq39-tq\r\n",
      "From (redirected): https://drive.google.com/uc?id=1eHgcyfH1JrKoLxo-BB3D5OZrKxq39-tq&confirm=t&uuid=b0dce71d-e9d0-4af3-b57a-825997016be5\r\n",
      "To: /kaggle/working/datafortrainingmodel.zip\r\n",
      "100%|██████████████████████████████████████| 1.77G/1.77G [00:24<00:00, 71.1MB/s]\r\n"},
   "source": [
    "!gdown --id 1eHgcyfH1JrKoLxo-BB3D5OZrKxq39-tq\n",
    "!unzip \"/kaggle/working/datafortrainingmodel.zip\" -d /kaggle/working/"
   ]
  },
  {
   "cell_type": "markdown",
   "id": "92ac426f",
   "metadata": {},
   "source": [
    "**Add in Urbanization Rate & isfreegood variables**"
   ]
  },
  {
   "cell_type": "code",
   "execution_count": 6,
   "id": "7ca549eb",
   "metadata": {
    "execution": {
     "iopub.execute_input": "2024-09-16T17:57:17.153415Z",
     "iopub.status.busy": "2024-09-16T17:57:17.153035Z",
     "iopub.status.idle": "2024-09-16T17:57:32.782287Z",
     "shell.execute_reply": "2024-09-16T17:57:32.780870Z"
    },
    "papermill": {
     "duration": 15.67452,
     "end_time": "2024-09-16T17:57:32.784679",
     "exception": false,
     "start_time": "2024-09-16T17:57:17.110159",
     "status": "completed"
    },
    "tags": []
   },
   "outputs": [
    {
     "name": "stdout",
     "output_type": "stream",
     "text": [
      "/opt/conda/lib/python3.10/site-packages/gdown/__main__.py:140: FutureWarning: Option `--id` was deprecated in version 4.3.1 and will be removed in 5.0. You don't need to pass it anymore to use a file ID.\r\n",
      "  warnings.warn(\r\n",
      "Downloading...\r\n",
      "From: https://drive.google.com/uc?id=1fIUU7JRLFRVXD9zCFIOUJ3CyYZmVSZ-a\r\n",
      "To: /kaggle/working/Urbanization Rate Master 2023.csv\r\n",
      "100%|██████████████████████████████████████| 69.5M/69.5M [00:01<00:00, 59.5MB/s]\r\n",
      "+----------+--------+-----------------+-------------------+\n",
      "|customerid|    city|Province standard|% urbanization rate|\n",
      "+----------+--------+-----------------+-------------------+\n",
      "|0070246174| CẦN THƠ|          Can Tho|               70.5|\n",
      "|0070295065|HÀ NỘI|           Ha Noi|              49.05|\n",
      "+----------+--------+-----------------+-------------------+\n",
      "only showing top 2 rows\n",
      "\n",
      "root\n",
      " |-- customerid: string (nullable = true)\n",
      " |-- city: string (nullable = true)\n",
      " |-- Province standard: string (nullable = true)\n",
      " |-- % urbanization rate: double (nullable = true)\n",
      "\n"
     ]
    }
   ],
   "source": [
    "!gdown --id 1fIUU7JRLFRVXD9zCFIOUJ3CyYZmVSZ-a\n",
    "from pyspark.sql import SparkSession\n",
    "from pyspark.sql.types import DoubleType\n",
    "from pyspark.sql.functions import col,to_date,when\n",
    "\n",
    "urbandata= spark.read.csv('/kaggle/working/Urbanization Rate Master 2023.csv')\n",
    "header = urbandata.first()\n",
    "# Remove the first row from the DataFrame\n",
    "urbandata = urbandata.filter(col(\"`_c0`\") != header._c0) # Assuming _c0 is not null in the header\n",
    "# Create a list of column names from the header row\n",
    "columns = [header[i] for i in range(len(header))]\n",
    "# Rename columns in the DataFrame\n",
    "urbandata = urbandata.select([col(f\"`_c{i}`\").alias(name) for i, name in enumerate(columns)])\n",
    "urbandata = urbandata.withColumn('% urbanization rate', col('% urbanization rate').cast(DoubleType()))\n",
    "urbandata.show(2)\n",
    "urbandata.printSchema()\n"
   ]
  },
  {
   "cell_type": "code",
   "execution_count": 7,
   "id": "1eb8979c",
   "metadata": {
    "execution": {
     "iopub.execute_input": "2024-09-16T17:57:32.873975Z",
     "iopub.status.busy": "2024-09-16T17:57:32.873075Z",
     "iopub.status.idle": "2024-09-16T17:57:46.339048Z",
     "shell.execute_reply": "2024-09-16T17:57:46.337916Z"
    },
    "papermill": {
     "duration": 13.514356,
     "end_time": "2024-09-16T17:57:46.342558",
     "exception": false,
     "start_time": "2024-09-16T17:57:32.828202",
     "status": "completed"
    },
    "tags": []
   },
   "outputs": [
    {
     "name": "stderr",
     "output_type": "stream",
     "text": [
      "                                                                                \r"
     ]
    },
    {
     "name": "stdout",
     "output_type": "stream",
     "text": [
      "+--------------------+----------+---------------+-----------------+----------------+-------------+------------+-----------+------------+---------+----------+---------+---------+--------------------+----------+-----------+-----------+----------+-------+--------+--------------+---------------+---------------+----------------+-----------------+-----------+--------------+-------------+------+------+-----+\n",
      "|           order_key|order_date|settlement_date|           region|distributor_code|customer_code|segmentation|channelname|    order_no|item_code|     brand|pack_type|pack_size|              key_so|totalec_sr|totalNSR_sr|totalNSR_so|totalec_so|diff_ec|diff_NSR|GPScuslatitude|GPScuslongitude|GPSdistlatitude|GPSdistlongitude|      distance_km|DeliveryDay|days_off_count|Dayprocessing|Ontime|Infull|DIFOT|\n",
      "+--------------------+----------+---------------+-----------------+----------------+-------------+------------+-----------+------------+---------+----------+---------+---------+--------------------+----------+-----------+-----------+----------+-------+--------+--------------+---------------+---------------+----------------+-----------------+-----------+--------------+-------------+------+------+-----+\n",
      "|2023-05-03-000029...|2023-05-03|     2023-05-04|North West Region|      0070144907|   0070693943|    DRINKING|     Bronze|000029594000|     4282|**********|      PET|     1.5L|03-05-2023-000029...|      0.25|    45000.0|    45000.0|      0.25|    0.0|     0.0|     21.602588|     105.821195|      21.547606|       105.82657|6.138931223244173|        1.0|           0.0|          1.0|   1.0|   1.0|  1.0|\n",
      "|2023-05-03-000029...|2023-05-03|     2023-05-04|North West Region|      0070144907|   0070693943|    DRINKING|     Bronze|000029594000|     7452|**********|      PET|    297ML|03-05-2023-000029...|     0.125|    24125.0|   24125.01|     0.125|    0.0|    0.01|     21.602588|     105.821195|      21.547606|       105.82657|6.138931223244173|        1.0|           0.0|          1.0|   1.0|   1.0|  1.0|\n",
      "+--------------------+----------+---------------+-----------------+----------------+-------------+------------+-----------+------------+---------+----------+---------+---------+--------------------+----------+-----------+-----------+----------+-------+--------+--------------+---------------+---------------+----------------+-----------------+-----------+--------------+-------------+------+------+-----+\n",
      "only showing top 2 rows\n",
      "\n",
      "root\n",
      " |-- order_key: string (nullable = true)\n",
      " |-- order_date: date (nullable = true)\n",
      " |-- settlement_date: date (nullable = true)\n",
      " |-- region: string (nullable = true)\n",
      " |-- distributor_code: string (nullable = true)\n",
      " |-- customer_code: string (nullable = true)\n",
      " |-- segmentation: string (nullable = true)\n",
      " |-- channelname: string (nullable = true)\n",
      " |-- order_no: string (nullable = true)\n",
      " |-- item_code: string (nullable = true)\n",
      " |-- brand: string (nullable = true)\n",
      " |-- pack_type: string (nullable = true)\n",
      " |-- pack_size: string (nullable = true)\n",
      " |-- key_so: string (nullable = true)\n",
      " |-- totalec_sr: double (nullable = true)\n",
      " |-- totalNSR_sr: double (nullable = true)\n",
      " |-- totalNSR_so: double (nullable = true)\n",
      " |-- totalec_so: double (nullable = true)\n",
      " |-- diff_ec: double (nullable = true)\n",
      " |-- diff_NSR: double (nullable = true)\n",
      " |-- GPScuslatitude: string (nullable = true)\n",
      " |-- GPScuslongitude: string (nullable = true)\n",
      " |-- GPSdistlatitude: string (nullable = true)\n",
      " |-- GPSdistlongitude: string (nullable = true)\n",
      " |-- distance_km: double (nullable = true)\n",
      " |-- DeliveryDay: double (nullable = true)\n",
      " |-- days_off_count: double (nullable = true)\n",
      " |-- Dayprocessing: double (nullable = true)\n",
      " |-- Ontime: double (nullable = false)\n",
      " |-- Infull: double (nullable = false)\n",
      " |-- DIFOT: double (nullable = false)\n",
      "\n"
     ]
    }
   ],
   "source": [
    "import zipfile\n",
    "import os\n",
    "from pyspark.sql import SparkSession\n",
    "\n",
    "# Initialize Spark session\n",
    "spark = SparkSession.builder.appName(\"CSV Reader\").getOrCreate()\n",
    "\n",
    "# Path to the zip file\n",
    "zip_path = \"/kaggle/working/datafortrainingmodel.zip\"\n",
    "extract_path = \"/kaggle/working/extracted_files\"\n",
    "\n",
    "# Step 1: Extract the zip file\n",
    "with zipfile.ZipFile(zip_path, 'r') as zip_ref:\n",
    "    zip_ref.extractall(extract_path)\n",
    "\n",
    "# Step 2: Read all CSV.gz files into one DataFrame\n",
    "csv_files = [os.path.join(extract_path, f) for f in os.listdir(extract_path) if f.endswith('.csv.gz')]\n",
    "\n",
    "# Read the CSV.gz files into a single DataFrame\n",
    "filtered_outliers_df = spark.read.option(\"header\", True).csv(csv_files)\n",
    "\n",
    "# Show the DataFrame (for confirmation)\n",
    "\n",
    "from pyspark.sql import SparkSession\n",
    "from pyspark.sql.types import DoubleType\n",
    "from pyspark.sql.functions import col,to_date,when\n",
    "\n",
    "filtered_outliers_df = filtered_outliers_df.withColumn(\n",
    "    \"Ontime\", when(col(\"Ontime\") == \"Yes\",1).otherwise(0))\n",
    "filtered_outliers_df = filtered_outliers_df.withColumn(\n",
    "    \"Infull\", when(col(\"Infull\") == \"Yes\",1).otherwise(0))\n",
    "filtered_outliers_df = filtered_outliers_df.withColumn(\n",
    "    \"DIFOT\", when(col(\"DIFOT\") == \"Yes\", 1).otherwise(0))\n",
    "\n",
    "filtered_outliers_df = filtered_outliers_df.withColumn('order_date', to_date(col('order_date'), 'yyyy-MM-dd')) # Định dạng mẫu ví dụ\n",
    "filtered_outliers_df = filtered_outliers_df.withColumn('settlement_date', to_date(col('settlement_date'), 'yyyy-MM-dd')) # Định dạng mẫu ví dụ\n",
    "filtered_outliers_df= filtered_outliers_df.withColumn('totalec_sr', col('totalec_sr').cast(DoubleType()))\n",
    "filtered_outliers_df= filtered_outliers_df.withColumn('totalNSR_sr', col('totalNSR_sr').cast(DoubleType()))\n",
    "filtered_outliers_df= filtered_outliers_df.withColumn('totalNSR_so', col('totalNSR_so').cast(DoubleType()))\n",
    "filtered_outliers_df= filtered_outliers_df.withColumn('totalec_so', col('totalec_so').cast(DoubleType()))\n",
    "filtered_outliers_df= filtered_outliers_df.withColumn('diff_ec', col('diff_ec').cast(DoubleType()))\n",
    "filtered_outliers_df= filtered_outliers_df.withColumn('diff_NSR', col('diff_NSR').cast(DoubleType()))\n",
    "filtered_outliers_df= filtered_outliers_df.withColumn('distance_km', col('distance_km').cast(DoubleType()))\n",
    "filtered_outliers_df= filtered_outliers_df.withColumn('DeliveryDay', col('DeliveryDay').cast(DoubleType()))\n",
    "filtered_outliers_df= filtered_outliers_df.withColumn('days_off_count', col('days_off_count').cast(DoubleType()))\n",
    "filtered_outliers_df= filtered_outliers_df.withColumn('Dayprocessing', col('Dayprocessing').cast(DoubleType()))\n",
    "filtered_outliers_df= filtered_outliers_df.withColumn('Ontime', col('Ontime').cast(DoubleType()))\n",
    "filtered_outliers_df= filtered_outliers_df.withColumn('Infull', col('Infull').cast(DoubleType()))\n",
    "filtered_outliers_df= filtered_outliers_df.withColumn('DIFOT', col('DIFOT').cast(DoubleType()))\n",
    "\n",
    "filtered_outliers_df.show(2)\n",
    "filtered_outliers_df.printSchema()\n"
   ]
  },
  {
   "cell_type": "code",
   "execution_count": 8,
   "id": "eac9d88e",
   "metadata": {
    "execution": {
     "iopub.execute_input": "2024-09-16T17:57:46.473230Z",
     "iopub.status.busy": "2024-09-16T17:57:46.472846Z",
     "iopub.status.idle": "2024-09-16T18:03:46.021755Z",
     "shell.execute_reply": "2024-09-16T18:03:46.020633Z"
    },
    "papermill": {
     "duration": 359.616556,
     "end_time": "2024-09-16T18:03:46.024313",
     "exception": false,
     "start_time": "2024-09-16T17:57:46.407757",
     "status": "completed"
    },
    "tags": []
   },
   "outputs": [
    {
     "name": "stdout",
     "output_type": "stream",
     "text": [
      "root\n",
      " |-- order_key: string (nullable = true)\n",
      " |-- order_date: date (nullable = true)\n",
      " |-- settlement_date: date (nullable = true)\n",
      " |-- region: string (nullable = true)\n",
      " |-- distributor_code: string (nullable = true)\n",
      " |-- customer_code: string (nullable = true)\n",
      " |-- segmentation: string (nullable = true)\n",
      " |-- channelname: string (nullable = true)\n",
      " |-- order_no: string (nullable = true)\n",
      " |-- item_code: string (nullable = true)\n",
      " |-- brand: string (nullable = true)\n",
      " |-- pack_type: string (nullable = true)\n",
      " |-- pack_size: string (nullable = true)\n",
      " |-- key_so: string (nullable = true)\n",
      " |-- totalec_sr: double (nullable = true)\n",
      " |-- totalNSR_sr: double (nullable = true)\n",
      " |-- totalNSR_so: double (nullable = true)\n",
      " |-- totalec_so: double (nullable = true)\n",
      " |-- diff_ec: double (nullable = true)\n",
      " |-- diff_NSR: double (nullable = true)\n",
      " |-- GPScuslatitude: string (nullable = true)\n",
      " |-- GPScuslongitude: string (nullable = true)\n",
      " |-- GPSdistlatitude: string (nullable = true)\n",
      " |-- GPSdistlongitude: string (nullable = true)\n",
      " |-- distance_km: double (nullable = true)\n",
      " |-- DeliveryDay: double (nullable = true)\n",
      " |-- days_off_count: double (nullable = true)\n",
      " |-- Dayprocessing: double (nullable = true)\n",
      " |-- Ontime: double (nullable = false)\n",
      " |-- Infull: double (nullable = false)\n",
      " |-- DIFOT: double (nullable = false)\n",
      " |-- city: string (nullable = true)\n",
      " |-- Province standard: string (nullable = true)\n",
      " |-- % urbanization rate: double (nullable = true)\n",
      "\n"
     ]
    },
    {
     "name": "stderr",
     "output_type": "stream",
     "text": [
      "[Stage 7:=======================================================> (43 + 1) / 44]\r"
     ]
    },
    {
     "name": "stdout",
     "output_type": "stream",
     "text": [
      "+--------------------+----------+---------------+---------------+----------------+-------------+------------+-----------+------------+---------+------+---------+---------+--------------------+----------+-----------+-----------+----------+-------+--------+--------------+---------------+---------------+----------------+-----------------+-----------+--------------+-------------+------+------+-----+----------+-----------------+-------------------+\n",
      "|           order_key|order_date|settlement_date|         region|distributor_code|customer_code|segmentation|channelname|    order_no|item_code| brand|pack_type|pack_size|              key_so|totalec_sr|totalNSR_sr|totalNSR_so|totalec_so|diff_ec|diff_NSR|GPScuslatitude|GPScuslongitude|GPSdistlatitude|GPSdistlongitude|      distance_km|DeliveryDay|days_off_count|Dayprocessing|Ontime|Infull|DIFOT|      city|Province standard|% urbanization rate|\n",
      "+--------------------+----------+---------------+---------------+----------------+-------------+------------+-----------+------------+---------+------+---------+---------+--------------------+----------+-----------+-----------+----------+-------+--------+--------------+---------------+---------------+----------------+-----------------+-----------+--------------+-------------+------+------+-----+----------+-----------------+-------------------+\n",
      "|2024-06-29-000045...|2024-06-29|     2024-06-29|Central  Region|      0070934570|   0070007703|    DRINKING|     Bronze|000045694384|     2718|******|      PET|    510ML|29-06-2024-000045...|      0.25|    19500.0|    19500.0|      0.25|    0.0|     0.0|     16.052324|     108.234291|      16.039998|      108.244726|1.766914988271313|        0.0|           0.0|          0.0|   1.0|   1.0|  1.0|TP ĐÀ NẴNG|          Da Nang|              87.45|\n",
      "|2024-06-29-000045...|2024-06-29|     2024-06-29|Central  Region|      0070934570|   0070007703|    DRINKING|     Bronze|000045694384|     4039|******|      PET|    350ML|29-06-2024-000045...|      0.25|   16999.99|   16999.98|      0.25|    0.0|   -0.01|     16.052324|     108.234291|      16.039998|      108.244726|1.766914988271313|        0.0|           0.0|          0.0|   1.0|   1.0|  1.0|TP ĐÀ NẴNG|          Da Nang|              87.45|\n",
      "+--------------------+----------+---------------+---------------+----------------+-------------+------------+-----------+------------+---------+------+---------+---------+--------------------+----------+-----------+-----------+----------+-------+--------+--------------+---------------+---------------+----------------+-----------------+-----------+--------------+-------------+------+------+-----+----------+-----------------+-------------------+\n",
      "only showing top 2 rows\n",
      "\n"
     ]
    },
    {
     "name": "stderr",
     "output_type": "stream",
     "text": [
      "                                                                                \r"
     ]
    }
   ],
   "source": [
    "#1.Left join to get Urban rate for Factdata \n",
    "\n",
    "from pyspark.sql.functions import col\n",
    "\n",
    "# Join factdata với GPScus, đặt tên lại cho các cột từ GPScus\n",
    "filtered_outliers_df = filtered_outliers_df.join(urbandata.alias('urbandata'), filtered_outliers_df.customer_code == urbandata.customerid, \"left\")\n",
    "# View data frame\n",
    "filtered_outliers_df = filtered_outliers_df.select(\n",
    "'order_key',\n",
    "'order_date',\n",
    "'settlement_date',\n",
    "'region',\n",
    "'distributor_code',\n",
    "'customer_code',\n",
    "'segmentation',\n",
    "'channelname',\n",
    "'order_no',\n",
    "'item_code',\n",
    "'brand',\n",
    "'pack_type',\n",
    "'pack_size',\n",
    "'key_so',\n",
    "'totalec_sr',\n",
    "'totalNSR_sr',\n",
    "'totalNSR_so',\n",
    "'totalec_so',\n",
    "'diff_ec',\n",
    "'diff_NSR',\n",
    "'GPScuslatitude',\n",
    "'GPScuslongitude',\n",
    "'GPSdistlatitude',\n",
    "'GPSdistlongitude',\n",
    "'distance_km',\n",
    "'DeliveryDay',\n",
    "'days_off_count',\n",
    "'Dayprocessing',\n",
    "'Ontime',\n",
    "'Infull',\n",
    "'DIFOT',\n",
    "'city',\n",
    "'Province standard',\n",
    "'% urbanization rate'\n",
    ")\n",
    "\n",
    "filtered_outliers_df.printSchema()\n",
    "filtered_outliers_df.show(2)\n",
    "\n"
   ]
  },
  {
   "cell_type": "code",
   "execution_count": 9,
   "id": "ab768634",
   "metadata": {
    "execution": {
     "iopub.execute_input": "2024-09-16T18:03:46.144709Z",
     "iopub.status.busy": "2024-09-16T18:03:46.144313Z",
     "iopub.status.idle": "2024-09-16T18:18:28.817340Z",
     "shell.execute_reply": "2024-09-16T18:18:28.816062Z"
    },
    "papermill": {
     "duration": 882.724627,
     "end_time": "2024-09-16T18:18:28.819489",
     "exception": false,
     "start_time": "2024-09-16T18:03:46.094862",
     "status": "completed"
    },
    "tags": []
   },
   "outputs": [
    {
     "name": "stderr",
     "output_type": "stream",
     "text": [
      "                                                                                \r"
     ]
    },
    {
     "name": "stdout",
     "output_type": "stream",
     "text": [
      "+--------------------+----------+---------------+---------------+----------------+-------------+------------+-----------+------------+---------+---------+---------+---------+--------------------+----------+-----------+-----------+----------+-------+--------+--------------+---------------+---------------+----------------+-----------------+-----------+--------------+-------------+------+------+-----+----------+-----------------+-------------------+\n",
      "|           order_key|order_date|settlement_date|         region|distributor_code|customer_code|segmentation|channelname|    order_no|item_code|    brand|pack_type|pack_size|              key_so|totalec_sr|totalNSR_sr|totalNSR_so|totalec_so|diff_ec|diff_NSR|GPScuslatitude|GPScuslongitude|GPSdistlatitude|GPSdistlongitude|      distance_km|DeliveryDay|days_off_count|Dayprocessing|Ontime|Infull|DIFOT|      city|Province standard|% urbanization rate|\n",
      "+--------------------+----------+---------------+---------------+----------------+-------------+------------+-----------+------------+---------+---------+---------+---------+--------------------+----------+-----------+-----------+----------+-------+--------+--------------+---------------+---------------+----------------+-----------------+-----------+--------------+-------------+------+------+-----+----------+-----------------+-------------------+\n",
      "|2024-06-29-000045...|2024-06-29|     2024-06-29|Central  Region|      0070934570|   0070007703|    DRINKING|     Bronze|000045694384|     2718|   Dasani|      PET|    510ML|29-06-2024-000045...|      0.25|    19500.0|    19500.0|      0.25|    0.0|     0.0|     16.052324|     108.234291|      16.039998|      108.244726|1.766914988271313|        0.0|           0.0|          0.0|   1.0|   1.0|  1.0|TP ĐÀ NẴNG|          Da Nang|              87.45|\n",
      "|2024-06-29-000045...|2024-06-29|     2024-06-29|Central  Region|      0070934570|   0070007703|    DRINKING|     Bronze|000045694384|     4039|   Dasani|      PET|    350ML|29-06-2024-000045...|      0.25|   16999.99|   16999.98|      0.25|    0.0|   -0.01|     16.052324|     108.234291|      16.039998|      108.244726|1.766914988271313|        0.0|           0.0|          0.0|   1.0|   1.0|  1.0|TP ĐÀ NẴNG|          Da Nang|              87.45|\n",
      "|2024-06-29-000045...|2024-06-29|     2024-06-29|Central  Region|      0070934570|   0070007703|    DRINKING|     Bronze|000045694384|     2710|   Dasani|      PET|    350ML|29-06-2024-000045...|      0.25|    16000.0|   16999.98|      0.25|    0.0|  999.98|     16.052324|     108.234291|      16.039998|      108.244726|1.766914988271313|        0.0|           0.0|          0.0|   1.0|   1.0|  1.0|TP ĐÀ NẴNG|          Da Nang|              87.45|\n",
      "|2023-10-28-000036...|2023-10-28|     2023-10-30|Central  Region|      0070934570|   0070007703|    DRINKING|     Bronze|000036903335|     2710|   Dasani|      PET|    350ML|28-10-2023-000036...|     0.125|    8124.99|    8124.99|     0.125|    0.0|     0.0|     16.052324|     108.234291|      16.039998|      108.244726|1.766914988271313|        2.0|           1.0|          1.0|   1.0|   1.0|  1.0|TP ĐÀ NẴNG|          Da Nang|              87.45|\n",
      "|2023-10-28-000036...|2023-10-28|     2023-10-30|Central  Region|      0070934570|   0070007703|    DRINKING|     Bronze|000036903335|     2712|   Dasani|      PET|     1.5L|28-10-2023-000036...|      0.25|    17250.0|    17250.0|      0.25|    0.0|     0.0|     16.052324|     108.234291|      16.039998|      108.244726|1.766914988271313|        2.0|           1.0|          1.0|   1.0|   1.0|  1.0|TP ĐÀ NẴNG|          Da Nang|              87.45|\n",
      "|2023-10-28-000036...|2023-10-28|     2023-10-30|Central  Region|      0070934570|   0070007703|    DRINKING|     Bronze|000036903335|     2718|   Dasani|      PET|    510ML|28-10-2023-000036...|     0.125|     8625.0|     8625.0|     0.125|    0.0|     0.0|     16.052324|     108.234291|      16.039998|      108.244726|1.766914988271313|        2.0|           1.0|          1.0|   1.0|   1.0|  1.0|TP ĐÀ NẴNG|          Da Nang|              87.45|\n",
      "|2023-08-05-000033...|2023-08-05|     2023-08-08|Central  Region|      0070934570|   0070007703|    DRINKING|     Bronze|000033466390|     2710|   Dasani|      PET|    350ML|05-08-2023-000033...|     0.125|    8124.99|    8124.99|     0.125|    0.0|     0.0|     16.052324|     108.234291|      16.039998|      108.244726|1.766914988271313|        3.0|           1.0|          2.0|   1.0|   1.0|  1.0|TP ĐÀ NẴNG|          Da Nang|              87.45|\n",
      "|2023-08-05-000033...|2023-08-05|     2023-08-08|Central  Region|      0070934570|   0070007703|    DRINKING|     Bronze|000033466390|     1545|Coca-Cola|      CAN|    320ML|05-08-2023-000033...|     0.125|    24750.0|    24750.0|     0.125|    0.0|     0.0|     16.052324|     108.234291|      16.039998|      108.244726|1.766914988271313|        3.0|           1.0|          2.0|   1.0|   1.0|  1.0|TP ĐÀ NẴNG|          Da Nang|              87.45|\n",
      "|2023-08-05-000033...|2023-08-05|     2023-08-08|Central  Region|      0070934570|   0070007703|    DRINKING|     Bronze|000033466390|     2718|   Dasani|      PET|    510ML|05-08-2023-000033...|     0.125|     9500.0|    9500.01|     0.125|    0.0|    0.01|     16.052324|     108.234291|      16.039998|      108.244726|1.766914988271313|        3.0|           1.0|          2.0|   1.0|   1.0|  1.0|TP ĐÀ NẴNG|          Da Nang|              87.45|\n",
      "|2023-08-05-000033...|2023-08-05|     2023-08-08|Central  Region|      0070934570|   0070007703|    DRINKING|     Bronze|000033466390|     1363|Coca-Cola|      RGB|    300ML|05-08-2023-000033...|     0.125|    8124.99|    8124.99|     0.125|    0.0|     0.0|     16.052324|     108.234291|      16.039998|      108.244726|1.766914988271313|        3.0|           1.0|          2.0|   1.0|   1.0|  1.0|TP ĐÀ NẴNG|          Da Nang|              87.45|\n",
      "+--------------------+----------+---------------+---------------+----------------+-------------+------------+-----------+------------+---------+---------+---------+---------+--------------------+----------+-----------+-----------+----------+-------+--------+--------------+---------------+---------------+----------------+-----------------+-----------+--------------+-------------+------+------+-----+----------+-----------------+-------------------+\n",
      "only showing top 10 rows\n",
      "\n"
     ]
    },
    {
     "name": "stderr",
     "output_type": "stream",
     "text": [
      "                                                                                \r"
     ]
    },
    {
     "name": "stdout",
     "output_type": "stream",
     "text": [
      "51.32\n",
      "24.31\n",
      "58.48\n",
      "27.75\n",
      "32.51\n",
      "17.69\n",
      "20.24\n",
      "31.65\n",
      "15.56\n",
      "38.6\n",
      "24.24\n",
      "28.0\n",
      "32.53\n",
      "28.78\n",
      "40.73\n",
      "23.07\n",
      "52.81\n",
      "18.33\n",
      "44.76\n",
      "13.88\n",
      "22.3\n",
      "84.32\n",
      "77.77\n",
      "27.66\n",
      "13.33\n",
      "49.05\n",
      "41.19\n",
      "14.25\n",
      "13.98\n",
      "15.95\n",
      "29.24\n",
      "16.62\n",
      "32.76\n",
      "67.5\n",
      "33.55\n",
      "37.24\n",
      "33.87\n",
      "21.11\n",
      "30.5\n",
      "42.36\n",
      "21.61\n",
      "45.58\n",
      "19.5\n",
      "25.76\n",
      "26.5\n",
      "16.25\n",
      "25.5\n",
      "22.74\n",
      "19.34\n",
      "32.7\n",
      "87.45\n",
      "28.1\n",
      "15.2\n",
      "35.5\n",
      "25.43\n",
      "20.85\n",
      "23.17\n",
      "20.3\n",
      "11.81\n",
      "17.51\n",
      "22.78\n",
      "70.5\n",
      "39.29\n"
     ]
    },
    {
     "name": "stderr",
     "output_type": "stream",
     "text": [
      "[Stage 20:=================================================>   (937 + 4) / 1000]\r"
     ]
    },
    {
     "name": "stdout",
     "output_type": "stream",
     "text": [
      "city: 51.32, Count: 932164\n",
      "city: 24.31, Count: 122405\n",
      "city: 58.48, Count: 740520\n",
      "city: 27.75, Count: 181119\n",
      "city: 32.51, Count: 77896\n",
      "city: 17.69, Count: 246719\n",
      "city: 20.24, Count: 603364\n",
      "city: 31.65, Count: 554876\n",
      "city: 15.56, Count: 1480761\n",
      "city: 38.6, Count: 1271509\n",
      "city: 24.24, Count: 264530\n",
      "city: 28.0, Count: 429200\n",
      "city: 32.53, Count: 519504\n",
      "city: 28.78, Count: 540508\n",
      "city: 40.73, Count: 894222\n",
      "city: 23.07, Count: 258359\n",
      "city: 52.81, Count: 1024882\n",
      "city: 18.33, Count: 690434\n",
      "city: 44.76, Count: 2049536\n",
      "city: 13.88, Count: 312785\n",
      "city: 22.3, Count: 872645\n",
      "city: 84.32, Count: 1013566\n",
      "city: 77.77, Count: 9531970\n",
      "city: 27.66, Count: 1217131\n",
      "city: 13.33, Count: 242838\n",
      "city: 49.05, Count: 10936194\n",
      "city: 41.19, Count: 719200\n",
      "city: 14.25, Count: 739246\n",
      "city: 13.98, Count: 736974\n",
      "city: 15.95, Count: 329637\n",
      "city: 29.24, Count: 747587\n",
      "city: 16.62, Count: 664241\n",
      "city: 32.76, Count: 410200\n",
      "city: 67.5, Count: 1269572\n",
      "city: 33.55, Count: 1106205\n",
      "city: 37.24, Count: 482145\n",
      "city: 33.87, Count: 282584\n",
      "city: 21.11, Count: 447752\n",
      "city: 30.5, Count: 1681749\n",
      "city: 42.36, Count: 1292106\n",
      "city: 21.61, Count: 600604\n",
      "city: 45.58, Count: 2369047\n",
      "city: 19.5, Count: 426449\n",
      "city: 25.76, Count: 698828\n",
      "city: 26.5, Count: 715622\n",
      "city: 16.25, Count: 81021\n",
      "city: 25.5, Count: 70385\n",
      "city: 22.74, Count: 137\n",
      "city: 19.34, Count: 848900\n",
      "city: 32.7, Count: 404737\n",
      "city: 87.45, Count: 1651607\n",
      "city: 28.1, Count: 281444\n",
      "city: 15.2, Count: 359435\n",
      "city: 35.5, Count: 247890\n",
      "city: 25.43, Count: 546256\n",
      "city: 20.85, Count: 300392\n",
      "city: 23.17, Count: 438973\n",
      "city: 20.3, Count: 526262\n",
      "city: 11.81, Count: 508681\n",
      "city: 17.51, Count: 242343\n",
      "city: 22.78, Count: 178261\n",
      "city: 70.5, Count: 968306\n",
      "city: 39.29, Count: 1318027\n"
     ]
    },
    {
     "name": "stderr",
     "output_type": "stream",
     "text": [
      "                                                                                \r"
     ]
    }
   ],
   "source": [
    "filtered_outliers_df.cache()\n",
    "filtered_outliers_df=filtered_outliers_df.filter(\n",
    "    (col(\"% urbanization rate\").isNotNull())\n",
    ")   \n",
    "filtered_outliers_df.show(10)\n",
    "\n",
    "filtered_outliers_df.createOrReplaceTempView(\"urban_table\")\n",
    "\n",
    "distinct_values_df = spark.sql(\"SELECT DISTINCT `% urbanization rate` FROM urban_table\")\n",
    "\n",
    "# Check distinct value of urban rate variables\n",
    "distinct_values = distinct_values_df.collect()\n",
    "\n",
    "for row in distinct_values:\n",
    "    print(row[\"% urbanization rate\"])\n",
    "\n",
    "from pyspark.sql.functions import count\n",
    "\n",
    "count_per_distinct_value = filtered_outliers_df.groupBy(\"% urbanization rate\").agg(count(\"*\").alias(\"count\"))\n",
    "\n",
    "# Print result\n",
    "distinct_counts = count_per_distinct_value.collect()\n",
    "\n",
    "for row in distinct_counts:\n",
    "    print(f\"city: {row['% urbanization rate']}, Count: {row['count']}\")"
   ]
  },
  {
   "cell_type": "code",
   "execution_count": 10,
   "id": "566e3622",
   "metadata": {
    "execution": {
     "iopub.execute_input": "2024-09-16T18:18:29.045294Z",
     "iopub.status.busy": "2024-09-16T18:18:29.044935Z",
     "iopub.status.idle": "2024-09-16T18:18:38.987671Z",
     "shell.execute_reply": "2024-09-16T18:18:38.986583Z"
    },
    "papermill": {
     "duration": 10.053284,
     "end_time": "2024-09-16T18:18:38.990826",
     "exception": false,
     "start_time": "2024-09-16T18:18:28.937542",
     "status": "completed"
    },
    "tags": []
   },
   "outputs": [
    {
     "name": "stdout",
     "output_type": "stream",
     "text": [
      "/opt/conda/lib/python3.10/site-packages/gdown/__main__.py:140: FutureWarning: Option `--id` was deprecated in version 4.3.1 and will be removed in 5.0. You don't need to pass it anymore to use a file ID.\r\n",
      "  warnings.warn(\r\n",
      "Downloading...\r\n",
      "From: https://drive.google.com/uc?id=1NFGxkgaInoRejTzuU6WlJSYAmZdT99OH\r\n",
      "To: /kaggle/working/Order have free good.csv\r\n",
      "100%|██████████████████████████████████████| 50.7M/50.7M [00:00<00:00, 72.8MB/s]\r\n",
      "+----------------+-------------+----------+--------------------+\n",
      "|        order_no|customer_code|order_date|                 key|\n",
      "+----------------+-------------+----------+--------------------+\n",
      "|    000041587332|   0070050155|2024-03-04|2024-03-04-000041...|\n",
      "|VN156005ORD-2710|   0071073113|2024-03-08|2024-03-08-VN1560...|\n",
      "+----------------+-------------+----------+--------------------+\n",
      "only showing top 2 rows\n",
      "\n",
      "root\n",
      " |-- order_no: string (nullable = true)\n",
      " |-- customer_code: string (nullable = true)\n",
      " |-- order_date: date (nullable = true)\n",
      " |-- key: string (nullable = true)\n",
      "\n"
     ]
    }
   ],
   "source": [
    "!gdown --id 1NFGxkgaInoRejTzuU6WlJSYAmZdT99OH\n",
    "from pyspark.sql import SparkSession\n",
    "from pyspark.sql.types import DoubleType\n",
    "from pyspark.sql.functions import col,to_date,when,concat, col, lit\n",
    "\n",
    "isfreegood= spark.read.csv('/kaggle/working/Order have free good.csv')\n",
    "header1 = isfreegood.first()\n",
    "# Remove the first row from the DataFrame\n",
    "isfreegood = isfreegood.filter(col(\"`_c0`\") != header1._c0) # Assuming _c0 is not null in the header\n",
    "# Create a list of column names from the header row\n",
    "columns = [header1[i] for i in range(len(header1))]\n",
    "# Rename columns in the DataFrame\n",
    "isfreegood = isfreegood.select([col(f\"`_c{i}`\").alias(name) for i, name in enumerate(columns)])\n",
    "isfreegood = isfreegood.withColumn('order_date', to_date(col('order_date'), 'yyyy-MM-dd')) # Định dạng mẫu ví dụ\n",
    "isfreegood = isfreegood.withColumn('key',concat(col('order_date').cast(\"string\"), lit('-'), col('order_no'), lit('-'), col('customer_code')))\n",
    "\n",
    "isfreegood.show(2)\n",
    "isfreegood.printSchema()\n",
    "\n"
   ]
  },
  {
   "cell_type": "code",
   "execution_count": 11,
   "id": "a0c6fce3",
   "metadata": {
    "execution": {
     "iopub.execute_input": "2024-09-16T18:18:39.293191Z",
     "iopub.status.busy": "2024-09-16T18:18:39.292679Z",
     "iopub.status.idle": "2024-09-16T18:23:03.975624Z",
     "shell.execute_reply": "2024-09-16T18:23:03.974653Z"
    },
    "papermill": {
     "duration": 264.832773,
     "end_time": "2024-09-16T18:23:03.978402",
     "exception": false,
     "start_time": "2024-09-16T18:18:39.145629",
     "status": "completed"
    },
    "tags": []
   },
   "outputs": [
    {
     "name": "stderr",
     "output_type": "stream",
     "text": [
      "                                                                                \r"
     ]
    },
    {
     "name": "stdout",
     "output_type": "stream",
     "text": [
      "+-------+-------------------+\n",
      "|summary|isfreegood_order_no|\n",
      "+-------+-------------------+\n",
      "|  count|           61702442|\n",
      "|   mean|0.09564726789905657|\n",
      "| stddev|0.29410690138854956|\n",
      "|    min|                0.0|\n",
      "|    max|                1.0|\n",
      "+-------+-------------------+\n",
      "\n"
     ]
    },
    {
     "name": "stderr",
     "output_type": "stream",
     "text": [
      "[Stage 33:=============================>                            (2 + 2) / 4]\r"
     ]
    },
    {
     "name": "stdout",
     "output_type": "stream",
     "text": [
      "+--------------------+--------------------+----------+---------------+-----------------+----------------+-------------+------------+-----------+------------+---------+---------+---------+---------+--------------------+----------+-----------+-----------+----------+-------+--------+--------------+---------------+---------------+----------------+-----------------+-----------+--------------+-------------+------+------+-----+---------+-----------------+-------------------+-------------------+\n",
      "|                 key|           order_key|order_date|settlement_date|           region|distributor_code|customer_code|segmentation|channelname|    order_no|item_code|    brand|pack_type|pack_size|              key_so|totalec_sr|totalNSR_sr|totalNSR_so|totalec_so|diff_ec|diff_NSR|GPScuslatitude|GPScuslongitude|GPSdistlatitude|GPSdistlongitude|      distance_km|DeliveryDay|days_off_count|Dayprocessing|Ontime|Infull|DIFOT|     city|Province standard|% urbanization rate|isfreegood_order_no|\n",
      "+--------------------+--------------------+----------+---------------+-----------------+----------------+-------------+------------+-----------+------------+---------+---------+---------+---------+--------------------+----------+-----------+-----------+----------+-------+--------+--------------+---------------+---------------+----------------+-----------------+-----------+--------------+-------------+------+------+-----+---------+-----------------+-------------------+-------------------+\n",
      "|2023-05-03-000029...|2023-05-03-000029...|2023-05-03|     2023-05-04|North West Region|      0070582402|   0070691872|    DRINKING|     Bronze|000029594200|     1742|*********|      PET|    390ML|03-05-2023-000029...|     0.125|   16749.99|   16749.99|     0.125|    0.0|     0.0|     21.258196|     105.642466|      21.241131|       105.69622|5.885091231155114|        1.0|           0.0|          1.0|   1.0|   1.0|  1.0|VĨNH PHÚC|        Vinh Phuc|              33.55|                0.0|\n",
      "|2023-05-03-000029...|2023-05-03-000029...|2023-05-03|     2023-05-04|North West Region|      0070582402|   0070691872|    DRINKING|     Bronze|000029594200|     3089|*********|      PET|     1.5L|03-05-2023-000029...|      0.25|    41750.0|   41750.01|      0.25|    0.0|    0.01|     21.258196|     105.642466|      21.241131|       105.69622|5.885091231155114|        1.0|           0.0|          1.0|   1.0|   1.0|  1.0|VĨNH PHÚC|        Vinh Phuc|              33.55|                0.0|\n",
      "+--------------------+--------------------+----------+---------------+-----------------+----------------+-------------+------------+-----------+------------+---------+---------+---------+---------+--------------------+----------+-----------+-----------+----------+-------+--------+--------------+---------------+---------------+----------------+-----------------+-----------+--------------+-------------+------+------+-----+---------+-----------------+-------------------+-------------------+\n",
      "only showing top 2 rows\n",
      "\n",
      "root\n",
      " |-- key: string (nullable = true)\n",
      " |-- order_key: string (nullable = true)\n",
      " |-- order_date: date (nullable = true)\n",
      " |-- settlement_date: date (nullable = true)\n",
      " |-- region: string (nullable = true)\n",
      " |-- distributor_code: string (nullable = true)\n",
      " |-- customer_code: string (nullable = true)\n",
      " |-- segmentation: string (nullable = true)\n",
      " |-- channelname: string (nullable = true)\n",
      " |-- order_no: string (nullable = true)\n",
      " |-- item_code: string (nullable = true)\n",
      " |-- brand: string (nullable = true)\n",
      " |-- pack_type: string (nullable = true)\n",
      " |-- pack_size: string (nullable = true)\n",
      " |-- key_so: string (nullable = true)\n",
      " |-- totalec_sr: double (nullable = true)\n",
      " |-- totalNSR_sr: double (nullable = true)\n",
      " |-- totalNSR_so: double (nullable = true)\n",
      " |-- totalec_so: double (nullable = true)\n",
      " |-- diff_ec: double (nullable = true)\n",
      " |-- diff_NSR: double (nullable = true)\n",
      " |-- GPScuslatitude: string (nullable = true)\n",
      " |-- GPScuslongitude: string (nullable = true)\n",
      " |-- GPSdistlatitude: string (nullable = true)\n",
      " |-- GPSdistlongitude: string (nullable = true)\n",
      " |-- distance_km: double (nullable = true)\n",
      " |-- DeliveryDay: double (nullable = true)\n",
      " |-- days_off_count: double (nullable = true)\n",
      " |-- Dayprocessing: double (nullable = true)\n",
      " |-- Ontime: double (nullable = false)\n",
      " |-- Infull: double (nullable = false)\n",
      " |-- DIFOT: double (nullable = false)\n",
      " |-- city: string (nullable = true)\n",
      " |-- Province standard: string (nullable = true)\n",
      " |-- % urbanization rate: double (nullable = true)\n",
      " |-- isfreegood_order_no: double (nullable = false)\n",
      "\n"
     ]
    },
    {
     "name": "stderr",
     "output_type": "stream",
     "text": [
      "                                                                                \r"
     ]
    }
   ],
   "source": [
    "from pyspark.sql.functions import concat, col, lit\n",
    "\n",
    "isfreegood_renamed = isfreegood.withColumnRenamed(\"order_date\", \"isfreegood_order_date\") \\\n",
    "                               .withColumnRenamed(\"order_no\", \"isfreegood_order_no\") \\\n",
    "                               .withColumnRenamed(\"customer_code\", \"isfreegood_customer_code\")\n",
    "\n",
    "filtered_outliers_df = filtered_outliers_df.withColumn(\n",
    "    \"key\",\n",
    "    concat(\n",
    "        col(\"order_date\").cast(\"string\"),\n",
    "        lit('-'),\n",
    "        col(\"order_no\"),\n",
    "        lit('-'),\n",
    "        col(\"customer_code\")\n",
    "    )\n",
    ")\n",
    "\n",
    "isfreegood_renamed = isfreegood_renamed.withColumn(\n",
    "    \"key\",\n",
    "    concat(\n",
    "        col(\"isfreegood_order_date\").cast(\"string\"),\n",
    "        lit('-'),\n",
    "        col(\"isfreegood_order_no\"),\n",
    "        lit('-'),\n",
    "        col(\"isfreegood_customer_code\")\n",
    "    )\n",
    ")\n",
    "\n",
    "# Join isfreegood with factdata\n",
    "filtered_outliers_df = filtered_outliers_df.join(isfreegood_renamed, \"key\", \"left\")\n",
    "\n",
    "# Display dataframe\n",
    "filtered_outliers_df = filtered_outliers_df.select(\n",
    "'key',\n",
    "'order_key',\n",
    "'order_date',\n",
    "'settlement_date',\n",
    "'region',\n",
    "'distributor_code',\n",
    "'customer_code',\n",
    "'segmentation',\n",
    "'channelname',\n",
    "'order_no',\n",
    "'item_code',\n",
    "'brand',\n",
    "'pack_type',\n",
    "'pack_size',\n",
    "'key_so',\n",
    "'totalec_sr',\n",
    "'totalNSR_sr',\n",
    "'totalNSR_so',\n",
    "'totalec_so',\n",
    "'diff_ec',\n",
    "'diff_NSR',\n",
    "'GPScuslatitude',\n",
    "'GPScuslongitude',\n",
    "'GPSdistlatitude',\n",
    "'GPSdistlongitude',\n",
    "'distance_km',\n",
    "'DeliveryDay',\n",
    "'days_off_count',\n",
    "'Dayprocessing',\n",
    "'Ontime',\n",
    "'Infull',\n",
    "'DIFOT',\n",
    "'city',\n",
    "'Province standard',\n",
    "'% urbanization rate',\n",
    "'isfreegood_order_no'\n",
    ")\n",
    "from pyspark.sql import functions as F\n",
    "\n",
    "# Fill NA 'isfreegood_order_no'\n",
    "filtered_outliers_df = filtered_outliers_df.withColumn(\n",
    "    'isfreegood_order_no',\n",
    "    F.when(F.col('isfreegood_order_no').isNull(), 0).otherwise(1)\n",
    ")\n",
    "filtered_outliers_df = filtered_outliers_df.withColumn('isfreegood_order_no', col('isfreegood_order_no').cast(DoubleType())) # Định dạng mẫu ví dụ\n",
    "# Show result\n",
    "filtered_outliers_df.select(\"isfreegood_order_no\").describe().show()\n",
    "\n",
    "filtered_outliers_df.show(2)\n",
    "\n",
    "filtered_outliers_df.printSchema()"
   ]
  },
  {
   "cell_type": "markdown",
   "id": "2abad711",
   "metadata": {},
   "source": [
    "**Export Data after Processing**"
   ]
  },
  {
   "cell_type": "code",
   "execution_count": 13,
   "id": "498cebb8",
   "metadata": {
    "execution": {
     "iopub.execute_input": "2024-09-16T18:23:04.646054Z",
     "iopub.status.busy": "2024-09-16T18:23:04.645648Z",
     "iopub.status.idle": "2024-09-16T18:43:17.334778Z",
     "shell.execute_reply": "2024-09-16T18:43:17.333690Z"
    },
    "papermill": {
     "duration": 1213.097819,
     "end_time": "2024-09-16T18:43:17.582140",
     "exception": false,
     "start_time": "2024-09-16T18:23:04.484321",
     "status": "completed"
    },
    "tags": []
   },
   "outputs": [
    {
     "name": "stderr",
     "output_type": "stream",
     "text": [
      "                                                                                \r"
     ]
    },
    {
     "data": {
      "text/html": [
       "<a href='/kaggle/working/datafortrainingmodelfinal.zip' target='_blank'>/kaggle/working/datafortrainingmodelfinal.zip</a><br>"
      ],
      "text/plain": [
       "/kaggle/working/datafortrainingmodelfinal.zip"
      ]
     },
     "metadata": {},
     "output_type": "display_data"
    }
   ],
   "source": [
    "import zipfile\n",
    "import os\n",
    "\n",
    "# Step 1: Cache the DataFrame to improve performance if it's being reused\n",
    "filtered_outliers_df.cache()\n",
    "\n",
    "# Step 2: Specify the output path for compressed CSV (GZIP)\n",
    "output_dir = \"/kaggle/working/datafortrainingmodelfinal_csv\"\n",
    "output_gz_file = \"/kaggle/working/datafortrainingmodelfinal.csv.gz\"\n",
    "\n",
    "# Step 3: Write the DataFrame to a compressed CSV file using GZIP\n",
    "filtered_outliers_df.write.csv(output_dir, header=True, mode='overwrite', compression='gzip')\n",
    "\n",
    "# Step 4: Compress the generated GZIP CSV file into a ZIP file\n",
    "zip_file_path = \"/kaggle/working/datafortrainingmodelfinal.zip\"\n",
    "\n",
    "# Initialize the ZipFile object\n",
    "with zipfile.ZipFile(zip_file_path, 'w', zipfile.ZIP_DEFLATED) as zipf:\n",
    "    # Walk through the output directory and compress only .gz files\n",
    "    for root, dirs, files in os.walk(output_dir):\n",
    "        for file in files:\n",
    "            if file.endswith('.gz'):\n",
    "                file_path = os.path.join(root, file)\n",
    "                # Add each .gz file to the zip archive with the original filename\n",
    "                zipf.write(file_path, os.path.basename(file_path))\n",
    "\n",
    "# Step 5: Create a download link for the ZIP file (Kaggle/Jupyter environment)\n",
    "from IPython.display import FileLink, display\n",
    "display(FileLink(zip_file_path))\n"
   ]
  }
 ],
 "metadata": {
  "kaggle": {
   "accelerator": "gpu",
   "dataSources": [],
   "dockerImageVersionId": 30761,
   "isGpuEnabled": true,
   "isInternetEnabled": true,
   "language": "python",
   "sourceType": "notebook"
  },
  "kernelspec": {
   "display_name": "Python 3",
   "language": "python",
   "name": "python3"
  },
  "language_info": {
   "codemirror_mode": {
    "name": "ipython",
    "version": 3
   },
   "file_extension": ".py",
   "mimetype": "text/x-python",
   "name": "python",
   "nbconvert_exporter": "python",
   "pygments_lexer": "ipython3",
   "version": "3.10.14"
  },
  "papermill": {
   "default_parameters": {},
   "duration": 2878.655967,
   "end_time": "2024-09-16T18:43:21.989180",
   "environment_variables": {},
   "exception": null,
   "input_path": "__notebook__.ipynb",
   "output_path": "__notebook__.ipynb",
   "parameters": {},
   "start_time": "2024-09-16T17:55:23.333213",
   "version": "2.6.0"
  }
 },
 "nbformat": 4,
 "nbformat_minor": 5
}
